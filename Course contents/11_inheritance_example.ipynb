{
 "cells": [
  {
   "cell_type": "markdown",
   "metadata": {},
   "source": [
    "## Introduction\n",
    "We've already introduced inheritance formally. Here we provide a practical example to see and understand the basic aspects of inheritance.\n",
    "\n",
    "To this purpose we define two base classes: one is an implementation of a clock and the other one of a calendar. Based on these two classes, we define a class CalendarClock, which inherits both from the class Calendar and from the class Clock."
   ]
  },
  {
   "cell_type": "markdown",
   "metadata": {},
   "source": [
    "## The Clock Class\n",
    "We define the Clock class below:"
   ]
  },
  {
   "cell_type": "code",
   "execution_count": 1,
   "metadata": {},
   "outputs": [
    {
     "name": "stdout",
     "output_type": "stream",
     "text": [
      " 0: 0: 0\n",
      " 2:46:40\n"
     ]
    }
   ],
   "source": [
    "class Clock(object):\n",
    "    def __init__(self,hours=0, minutes=0, seconds=0):\n",
    "        self.__hours = hours\n",
    "        self.__minutes = minutes\n",
    "        self.__seconds = seconds\n",
    "    def set(self,hours, minutes, seconds=0):\n",
    "        self.__hours = hours\n",
    "        self.__minutes = minutes\n",
    "        self.__seconds = seconds\n",
    "    def tick(self):\n",
    "        \"\"\" Time will be advanced by one second \"\"\"\n",
    "        if self.__seconds == 59:\n",
    "            self.__seconds = 0\n",
    "            if (self.__minutes == 59):\n",
    "                self.__minutes = 0\n",
    "                self.__hours = 0 if self.__hours==23  else self.__hours + 1\n",
    "            else:\n",
    "                self.__minutes += 1;\n",
    "        else:\n",
    "            self.__seconds += 1;\n",
    "    def display(self):\n",
    "        print(\"%d:%d:%d\" % (self.__hours, self.__minutes, self.__seconds))\n",
    "    def __str__(self):\n",
    "        return \"%2d:%2d:%2d\" % (self.__hours, self.__minutes, self.__seconds)\n",
    "x = Clock()\n",
    "print(x)\n",
    "for i in range(10000):\n",
    "    x.tick()\n",
    "print(x)"
   ]
  },
  {
   "cell_type": "markdown",
   "metadata": {},
   "source": [
    "## The Calendar Class\n",
    "We provide the implementation for the Calendar class below:"
   ]
  },
  {
   "cell_type": "code",
   "execution_count": 2,
   "metadata": {},
   "outputs": [
    {
     "name": "stdout",
     "output_type": "stream",
     "text": [
      "1/1/1900\n",
      "2/1/1900\n"
     ]
    }
   ],
   "source": [
    "class Calendar(object):\n",
    "    months = (31,28,31,30,31,30,31,31,30,31,30,31)\n",
    "    def __init__(self, day=1, month=1, year=1900):\n",
    "        self.__day = day\n",
    "        self.__month = month\n",
    "        self.__year = year\n",
    "    def leapyear(self,y):\n",
    "        if y % 4:\n",
    "\t   # not a leap year\n",
    "           return 0;\n",
    "        else:\n",
    "           if y % 100:\n",
    "               return 1;\n",
    "           else:\n",
    "               if y % 400:\n",
    "                  return 0\n",
    "               else:\n",
    "                  return 1;\n",
    "    def set(self, day, month, year):\n",
    "        self.__day = day\n",
    "        self.__month = month\n",
    "        self.__year = year\n",
    "    def get():\n",
    "        return (self, self.__day, self.__month, self.__year)\n",
    "    def advance(self):\n",
    "        months = Calendar.months\n",
    "        max_days = months[self.__month-1]\n",
    "        if self.__month == 2:\n",
    "            max_days += self.leapyear(self.__year)\n",
    "        if self.__day == max_days:\n",
    "            self.__day = 1\n",
    "            if (self.__month == 12):\n",
    "                self.__month = 1\n",
    "                self.__year += 1\n",
    "            else:\n",
    "                self.__month += 1\n",
    "        else:\n",
    "            self.__day += 1\n",
    "    def __str__(self):\n",
    "       return str(self.__day)+\"/\"+ str(self.__month)+ \"/\"+ str(self.__year)\n",
    "if __name__ == \"__main__\":\n",
    "   x = Calendar()\n",
    "   print(x)\n",
    "   x.advance()\n",
    "   print(x)"
   ]
  },
  {
   "cell_type": "markdown",
   "metadata": {},
   "source": [
    "## The Calendar-Clock Class\n",
    "Finally, we combine these 2 classes to create our CalendarClock class below:"
   ]
  },
  {
   "cell_type": "code",
   "execution_count": 3,
   "metadata": {},
   "outputs": [
    {
     "name": "stdout",
     "output_type": "stream",
     "text": [
      "24/12/57,  0: 0: 0\n",
      "19/9/60,  0:16:40\n"
     ]
    }
   ],
   "source": [
    "class CalendarClock(Clock, Calendar):\n",
    "   def __init__(self, day,month,year,hours=0, minutes=0,seconds=0):\n",
    "        Calendar.__init__(self, day, month, year)\n",
    "        Clock.__init__(self, hours, minutes, seconds)\n",
    "   def __str__(self):\n",
    "       return Calendar.__str__(self) + \", \" + Clock.__str__(self)\n",
    "if __name__  == \"__main__\":\n",
    "   x = CalendarClock(24,12,57)\n",
    "   print(x)\n",
    "   for i in range(1000):\n",
    "      x.tick()\n",
    "   for i in range(1000):\n",
    "      x.advance()\n",
    "   print(x)"
   ]
  }
 ],
 "metadata": {
  "kernelspec": {
   "display_name": "Python 3 (ipykernel)",
   "language": "python",
   "name": "python3"
  },
  "language_info": {
   "codemirror_mode": {
    "name": "ipython",
    "version": 3
   },
   "file_extension": ".py",
   "mimetype": "text/x-python",
   "name": "python",
   "nbconvert_exporter": "python",
   "pygments_lexer": "ipython3",
   "version": "3.12.7"
  }
 },
 "nbformat": 4,
 "nbformat_minor": 4
}
