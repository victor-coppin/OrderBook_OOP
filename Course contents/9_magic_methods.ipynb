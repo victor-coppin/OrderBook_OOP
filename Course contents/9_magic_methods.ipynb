{
 "cells": [
  {
   "cell_type": "markdown",
   "metadata": {},
   "source": [
    "## Introduction\n",
    "We've already seen them in the previous chapters. They are special methods with fixed names. They are the methods with this clumsy syntax, i.e. the double underscores at the beginning and the end. They are also hard to talk about. How do you pronounce or say a method name like ```__init__```? \"Underscore underscore init underscore underscore\" sounds horrible and is almost a tongue twister. \"Double underscore init double underscore\" is a lot better, but the ideal way is \"dunder init dunder\" **That's why magic methods are sometimes called dunder methods!**\n",
    "\n",
    "So what's magic about the ```__init__``` method? The answer is: you don't have to invoke it directly. The invocation is realized behind the scenes. When you create an instance x of a class A with the statement \"x = A()\", Python will do the necessary calls to ```__new__``` and ```__init__```.\n",
    "\n",
    "Towards the end of this chapter we will introduce the ```__call__``` method. It is a functionality which many programming languages do not have, so programmers generally do not look for it. The ```__call__``` method enables Python programmers to write classes where the instances behave like functions. Both functions and the instances of such classes are called callables.\n",
    "\n",
    "We have encountered the concept of operator overloading many times in this course. We had used the plus sign to add numerical values, to concatenate strings or to combine lists:"
   ]
  },
  {
   "cell_type": "code",
   "execution_count": 1,
   "metadata": {},
   "outputs": [
    {
     "data": {
      "text/plain": [
       "9"
      ]
     },
     "execution_count": 1,
     "metadata": {},
     "output_type": "execute_result"
    }
   ],
   "source": [
    "4 + 5"
   ]
  },
  {
   "cell_type": "code",
   "execution_count": 2,
   "metadata": {},
   "outputs": [
    {
     "data": {
      "text/plain": [
       "12.8"
      ]
     },
     "execution_count": 2,
     "metadata": {},
     "output_type": "execute_result"
    }
   ],
   "source": [
    "3.8 + 9"
   ]
  },
  {
   "cell_type": "code",
   "execution_count": 3,
   "metadata": {},
   "outputs": [
    {
     "data": {
      "text/plain": [
       "'Peter Pan'"
      ]
     },
     "execution_count": 3,
     "metadata": {},
     "output_type": "execute_result"
    }
   ],
   "source": [
    "\"Peter\" + \" \" + \"Pan\""
   ]
  },
  {
   "cell_type": "code",
   "execution_count": 4,
   "metadata": {},
   "outputs": [
    {
     "data": {
      "text/plain": [
       "[3, 6, 8, 7, 11, 13]"
      ]
     },
     "execution_count": 4,
     "metadata": {},
     "output_type": "execute_result"
    }
   ],
   "source": [
    "[3,6,8] + [7,11,13]"
   ]
  },
  {
   "cell_type": "markdown",
   "metadata": {},
   "source": [
    "It's even possible to overload the \"+\" operator as well as all the other operators for the purposes of your own class. To do this, you need to understand the underlying mechanism. There is a special (or a \"magic\") method for every operator sign. The magic method for the \"+\" sign is the ```__add__``` method. For \"-\" it is ```__sub__``` and so on. There's a complete listing of all the magic methods a little further down.\n",
    "\n",
    "The mechanism works like this: If we have an expression \"x + y\" and x is an instance of class K, then Python will check the class definition of K. If K has a method ```__add__``` it will be called with ```x.__add__(y)```, otherwise we will get an error message:\n",
    "```\n",
    "Traceback (most recent call last):\n",
    "  File \"\", line 1, in \n",
    "TypeError: unsupported operand type(s) for +: 'K' and 'K'\n",
    "```"
   ]
  },
  {
   "cell_type": "markdown",
   "metadata": {},
   "source": [
    "## Overview of Magic Methods\n",
    "### Binary Operators\n",
    "\n",
    "| Operator | Method |\n",
    "| --- | --- |\n",
    "| + | ```object.__add__(self, other)``` |\n",
    "| - | ```object.__sub__(self, other)``` |\n",
    "| \\* | ```object.__mul__(self, other)``` |\n",
    "| // | ```object.__floordiv__(self, other)``` |\n",
    "| / | ```object.__truediv__(self, other)``` |\n",
    "| % | ```object.__mod__(self, other)``` |\n",
    "| ** | ```object.__pow__(self, other[, modulo])``` |\n",
    "| << | ```object.__lshift__(self, other)``` |\n",
    "| >> | ```object.__rshift__(self, other)``` |\n",
    "| & | ```object.__and__(self, other)``` |\n",
    "| ^ | ```object.__xor__(self, other)``` |\n",
    "| | | ```object.__or__(self, other)``` |\n",
    "\n",
    "### Extended Assignments\n",
    "\n",
    "| Operator | Method |\n",
    "| --- | --- |\n",
    "| += | ```object.__iadd__(self, other)``` |\n",
    "| -= | ```object.__isub__(self, other)``` |\n",
    "| \\*= | ```object.__imul__(self, other)``` |\n",
    "| //= | ```object.__ifloordiv__(self, other)``` |\n",
    "| /= | ```object.__idiv__(self, other)``` |\n",
    "| %= | ```object.__imod__(self, other)``` |\n",
    "| \\*\\*= | ```object.__ipow__(self, other[, modulo])``` |\n",
    "| <<= | ```object.__ilshift__(self, other)``` |\n",
    "| >>= | ```object.__irshift__(self, other)``` |\n",
    "| &= | ```object.__iand__(self, other)``` |\n",
    "| ^= | ```object.__ixor__(self, other)``` |\n",
    "| \\|= | ```object.__ior__(self, other)``` |\n",
    "\n",
    "### Unary Operators\n",
    "\n",
    "| Operator | Method |\n",
    "| --- | --- |\n",
    "| - | ```object.__neg__(self)``` |\n",
    "| + | ```object.__pos__(self)``` |\n",
    "| abs() | ```object.__abs__(self)``` |\n",
    "| ~ | ```object.__invert__(self)``` |\n",
    "| complex() | ```object.__complex__(self)``` |\n",
    "| int() | ```object.__int__(self)``` |\n",
    "| long() | ```object.__long__(self)``` |\n",
    "| float() | ```object.__float__(self)``` |\n",
    "| oct() | ```object.__oct__(self)``` |\n",
    "| hex() | ```object.__hex__(self)``` |\n",
    "\n",
    "### Comparison Operators\n",
    "\n",
    "| Operator | Method |\n",
    "| --- | --- |\n",
    "| < | ```object.__lt__(self, other)``` |\n",
    "| <= | ```object.__le__(self, other)``` |\n",
    "| == | ```object.__eq__(self, other)``` |\n",
    "| != | ```object.__ne__(self, other)``` |\n",
    "| >= | ```object.__ge__(self, other)``` |\n",
    "| > | ```object.__gt__(self, other)``` |"
   ]
  },
  {
   "cell_type": "markdown",
   "metadata": {},
   "source": [
    "## Example class: Length\n",
    "We will demonstrate the Length class and how you can overload the \"+\" operator for your own class. To do this, we have to overload the ```__add__``` method. Our class contains the ```__str__``` and ```__repr__``` methods as well. The instances of the class ```Length``` contain length or distance information. The attributes of an instance are self.value and self.unit.\n",
    "\n",
    "This class allows us to calculate expressions with mixed units like this one:\n",
    "```\n",
    "2.56 m + 3 yd + 7.8 in + 7.03 cm\n",
    "```\n",
    "The listing of the class:"
   ]
  },
  {
   "cell_type": "code",
   "execution_count": 8,
   "metadata": {},
   "outputs": [
    {
     "name": "stdout",
     "output_type": "stream",
     "text": [
      "4\n",
      "Length(5.593613298337708, 'yd')\n",
      "5.1148\n"
     ]
    }
   ],
   "source": [
    "class Length:\n",
    "    __metric = {\"mm\" : 0.001, \"cm\" : 0.01, \"m\" : 1, \"km\" : 1000,\n",
    "                \"in\" : 0.0254, \"ft\" : 0.3048, \"yd\" : 0.9144,\n",
    "                \"mi\" : 1609.344 }\n",
    "    def __init__(self, value, unit = \"m\" ):\n",
    "        self.value = value\n",
    "        self.unit = unit\n",
    "    def Converse2Metres(self):\n",
    "        return self.value * Length.__metric[self.unit]\n",
    "    def __add__(self, other):\n",
    "        l = self.Converse2Metres() + other.Converse2Metres()\n",
    "        return Length(l / Length.__metric[self.unit], self.unit )\n",
    "    def __str__(self):\n",
    "        return str(self.Converse2Metres())\n",
    "    def __repr__(self):\n",
    "        return \"Length(\" + str(self.value) + \", '\" + self.unit + \"')\"\n",
    "if __name__ == \"__main__\":\n",
    "    x = Length(4)\n",
    "    print(x)\n",
    "    y = eval(repr(x))\n",
    "    z = Length(4.5, \"yd\") + Length(1)\n",
    "    print(repr(z))\n",
    "    print(z)"
   ]
  },
  {
   "cell_type": "code",
   "execution_count": 9,
   "metadata": {},
   "outputs": [
    {
     "name": "stdout",
     "output_type": "stream",
     "text": [
      "5.57162\n"
     ]
    }
   ],
   "source": [
    "# the class can be used like this\n",
    "L = Length\n",
    "print(L(2.56,\"m\") + L(3,\"yd\") + L(7.8,\"in\") + L(7.03,\"cm\"))"
   ]
  },
  {
   "cell_type": "markdown",
   "metadata": {},
   "source": [
    "We use the method ```__iadd__``` to implement the extended assignment:\n",
    "```\n",
    "def __iadd__(self, other):\n",
    "    l = self.Converse2Metres() + other.Converse2Metres()\n",
    "    self.value = l / Length.__metric[self.unit]\n",
    "    return self\n",
    "```\n",
    "Now we are capable of writing the following assignments:\n",
    "```\n",
    "x += Length(1)\n",
    "x += Length(4, \"yd\")\n",
    "```\n",
    "We added 1 metre in the example above by writing \"x += Length(1))\". Most certainly, you will agree with us that it would be more convenient to simply write \"x += 1\" instead. We also want to treat expressions like \"Length(5,\"yd\") + 4.8\" similarly. So, if somebody uses a type int or float, our class takes it automatically for \"metre\" and converts it into a Length object. It's easy to adapt our ```__add__``` and ```__iadd__``` method for this task. All we have to do is to check the type of the parameter \"other\":\n",
    "```\n",
    "def __add__(self, other):\n",
    "    if type(other) == int or type(other) == float:\n",
    "        l = self.Converse2Metres() + other\n",
    "    else:\n",
    "        l = self.Converse2Metres() + other.Converse2Metres()\n",
    "    return Length(l / Length.__metric[self.unit], self.unit )\n",
    "def __iadd__(self, other):\n",
    "    if type(other) == int or type(other) == float:\n",
    "        l = self.Converse2Metres() + other\n",
    "    else:\n",
    "        l = self.Converse2Metres() + other.Converse2Metres()\n",
    "    self.value += l / Length.__metric[self.unit]\n",
    "    return self\n",
    "```"
   ]
  },
  {
   "attachments": {
    "image.png": {
     "image/png": "[encoded data removed]"
    }
   },
   "cell_type": "markdown",
   "metadata": {},
   "source": [
    "It's a safe bet that if somebody works with adding integers and floats from the right side for a while, he or she will want to have the same from the left side! What will happen if we execute the following code line?\n",
    "```\n",
    "x = 5 + Length(3, \"yd\")\n",
    "```\n",
    "We will get an exception:\n",
    "```\n",
    "AttributeError: 'int' object has no attribute 'Converse2Metres'\n",
    "```\n",
    "Of course, the left side has to be of type \"Length\", because otherwise Python tries to apply the ```__add__``` method from int, which can't cope with Length objects as second arguments!\n",
    "\n",
    "Python provides a solution for this problem as well. It's the ```__radd__``` method. It works like this: Python tries to evaluate the expression \"5 + Length(3, 'yd')\". First it calls ```int.__add__(5,Length(3, 'yd'))```, which will raise an exception. After this it will try to invoke ```Length.__radd__(Length(3, \"yd\"), 5)```. It's easy to recognize that the implementation of ```__radd__``` is analogue to ```__add__```:\n",
    "```\n",
    "def __radd__(self, other):\n",
    "    if type(other) == int or type(other) == float:\n",
    "        l = self.Converse2Metres() + other\n",
    "    else:\n",
    "        l = self.Converse2Metres() + other.Converse2Metres()\n",
    "    return Length(l / Length.__metric[self.unit], self.unit )\n",
    "```\n",
    "It's advisable to make use of the ```__add__``` method in the ```__radd__``` method:\n",
    "```\n",
    "def __radd__(self, other):\n",
    "    return Length.__add__(self,other)  \n",
    "```\n",
    "The following diagram illustrates the relationship between ```__add__``` and ```__radd__```:\n",
    "\n",
    "![image.png](attachment:image.png)"
   ]
  },
  {
   "cell_type": "markdown",
   "metadata": {},
   "source": [
    "## Standard Classes as Base Classes\n",
    "It's possible to use standard classes - like int, float, dict or lists - as base classes as well.\n",
    "\n",
    "We extend the list class by adding a push method:"
   ]
  },
  {
   "cell_type": "code",
   "execution_count": 10,
   "metadata": {},
   "outputs": [
    {
     "name": "stdout",
     "output_type": "stream",
     "text": [
      "[3, 4, 47]\n"
     ]
    }
   ],
   "source": [
    "class Plist(list):\n",
    "    def __init__(self, l):\n",
    "        list.__init__(self, l)\n",
    "    def push(self, item):\n",
    "        self.append(item)\n",
    "if __name__ == \"__main__\":\n",
    "    x = Plist([3,4])\n",
    "    x.push(47)\n",
    "    print(x)"
   ]
  },
  {
   "cell_type": "markdown",
   "metadata": {},
   "source": [
    "This means that all the previously introduced binary and extended assignment operators exist in the \"reversed\" version as well:\n",
    "```__radd__```, ```__rsub__```, ```__rmul__```, etc."
   ]
  },
  {
   "cell_type": "markdown",
   "metadata": {},
   "source": [
    "## Exercise\n",
    "Write a class with the name Ccy, similar to the previously defined Length class.Ccy should contain values in various currencies, e.g. \"EUR\", \"GBP\" or \"USD\". An instance should contain the amount and the currency unit. The class, you are going to design as an exercise, might be best described with the following example session:\n",
    "```\n",
    "from currencies import Ccy\n",
    "v1 = Ccy(23.43, \"EUR\")\n",
    "v2 = Ccy(19.97, \"USD\")\n",
    "print(v1 + v2)\n",
    "print(v2 + v1)\n",
    "print(v1 + 3) # an int or a float is considered to be a EUR value\n",
    "print(3 + v1)\n",
    "```"
   ]
  },
  {
   "cell_type": "code",
   "execution_count": 11,
   "metadata": {},
   "outputs": [],
   "source": [
    "# Solution to Exercise\n",
    "\"\"\"\n",
    "    The class \"Ccy\" can be used to define money values in various currencies. A Ccy instance has the string attributes 'unit' (e.g. 'CHF', 'CAD' od 'EUR' and the 'value' as a float. \n",
    "    A currency object consists of a value and the corresponding unit.\n",
    "    \"\"\"\n",
    "class Ccy:\n",
    "    currencies =  {'CHF': 1.0821202355817312, \n",
    "                       'CAD': 1.488609845538393, \n",
    "                       'GBP': 0.8916546282920325, \n",
    "                       'JPY': 114.38826536281809, \n",
    "                       'EUR': 1.0, \n",
    "                       'USD': 1.11123458162018}\n",
    "    def __init__(self, value, unit=\"EUR\"):\n",
    "        self.value = value\n",
    "        self.unit = unit\n",
    "    def __str__(self):\n",
    "        return \"{0:5.2f}\".format(self.value) + \" \" + self.unit\n",
    "    def changeTo(self, new_unit):\n",
    "        \"\"\"\n",
    "            An Ccy object is transformed from the unit \"self.unit\" to \"new_unit\"\n",
    "        \"\"\"\n",
    "        self.value = (self.value / Ccy.currencies[self.unit] * Ccy.currencies[new_unit])\n",
    "        self.unit = new_unit\n",
    "    def __add__(self, other):\n",
    "        \"\"\"\n",
    "            Defines the '+' operator.\n",
    "            If other is a CCy object the currency values \n",
    "            are added and the result will be the unit of \n",
    "            self. If other is an int or a float, other will\n",
    "            be treated as a Euro value. \n",
    "        \"\"\"\n",
    "        if type(other) == int or type(other) == float:\n",
    "            x = (other * Ccy.currencies[self.unit])\n",
    "        else:\n",
    "            x = (other.value / Ccy.currencies[other.unit] * Ccy.currencies[self.unit]) \n",
    "        return Ccy(x + self.value, self.unit)\n",
    "    def __iadd__(self, other):\n",
    "        \"\"\"\n",
    "            Similar to __add__\n",
    "        \"\"\"\n",
    "        if type(other) == int or type(other) == float:\n",
    "            x = (other * Ccy.currencies[self.unit])\n",
    "        else:\n",
    "            x = (other.value / Ccy.currencies[other.unit] * Ccy.currencies[self.unit])\n",
    "        self.value += x\n",
    "        return self\n",
    "    def __radd__(self, other):\n",
    "        res = self + other\n",
    "        if self.unit != \"EUR\":\n",
    "            res.changeTo(\"EUR\")\n",
    "        return res\n",
    "        # __sub__, __isub__ and __rsub__ can be defined analogue"
   ]
  },
  {
   "cell_type": "code",
   "execution_count": 12,
   "metadata": {},
   "outputs": [
    {
     "name": "stdout",
     "output_type": "stream",
     "text": [
      "282.91 EUR\n",
      "28.40 EUR\n"
     ]
    }
   ],
   "source": [
    "# now test the class to see if it produces the correct output\n",
    "x = Ccy(10,\"USD\")\n",
    "y = Ccy(11)\n",
    "z = Ccy(12.34, \"JPY\")\n",
    "z = 7.8 + x + y + 255 + z\n",
    "print(z)\n",
    "lst = [Ccy(10,\"USD\"), Ccy(11), Ccy(12.34, \"JPY\"), Ccy(12.34, \"CAD\")]\n",
    "z = sum(lst)\n",
    "print(z)"
   ]
  },
  {
   "cell_type": "markdown",
   "metadata": {},
   "source": [
    "Another interesting aspect of this currency converter class in Python can be shown if we add multiplication. You will easily understand that it makes no sense to allow expressions like \"12.4 € \\* 3.4 USD\" (or in prefix notation: \"€ 12.4 $ 3.4\"), but it makes perfect sense to evaluate \"34.54 €\". You can find the new currency converter class with the newly added methods for ```__mul__```, ```__imul__``` and ```__rmul__``` in the following listing:"
   ]
  },
  {
   "cell_type": "code",
   "execution_count": 13,
   "metadata": {},
   "outputs": [],
   "source": [
    "\"\"\"\n",
    "    The class \"Ccy\" can be used to define money values in various currencies. A Ccy instance has the string attributes 'unit' (e.g. 'CHF', 'CAD' od 'EUR' and the 'value' as a float. \n",
    "    A currency object consists of a value and the corresponding unit.\n",
    "\"\"\"   \n",
    "class Ccy:\n",
    "    currencies =  {'CHF': 1.0821202355817312, \n",
    "                       'CAD': 1.488609845538393, \n",
    "                       'GBP': 0.8916546282920325, \n",
    "                       'JPY': 114.38826536281809, \n",
    "                       'EUR': 1.0, \n",
    "                       'USD': 1.11123458162018}\n",
    "    def __init__(self, value, unit=\"EUR\"):\n",
    "        self.value = value\n",
    "        self.unit = unit\n",
    "    def __str__(self):\n",
    "        return \"{0:5.2f}\".format(self.value) + \" \" + self.unit\n",
    "    def __repr__(self):\n",
    "        return 'Ccy(' + str(self.value) + ', \"' + self.unit + '\")'\n",
    "    def changeTo(self, new_unit):\n",
    "        \"\"\"\n",
    "            An Ccy object is transformed from the unit \"self.unit\" to \"new_unit\"\n",
    "        \"\"\"\n",
    "        self.value = (self.value / Ccy.currencies[self.unit] * Ccy.currencies[new_unit])\n",
    "        self.unit = new_unit\n",
    "    def __add__(self, other):\n",
    "        \"\"\"\n",
    "            Defines the '+' operator.\n",
    "            If other is a CCy object the currency values \n",
    "            are added and the result will be the unit of \n",
    "            self. If other is an int or a float, other will\n",
    "            be treated as a Euro value. \n",
    "        \"\"\"\n",
    "        if type(other) == int or type(other) == float:\n",
    "                x = (other * Ccy.currencies[self.unit])\n",
    "        else:\n",
    "                x = (other.value / Ccy.currencies[other.unit] * Ccy.currencies[self.unit]) \n",
    "        return Ccy(x + self.value, self.unit)\n",
    "    def __iadd__(self, other):\n",
    "        \"\"\"\n",
    "            Similar to __add__\n",
    "        \"\"\"\n",
    "        if type(other) == int or type(other) == float:\n",
    "            x = (other * Ccy.currencies[self.unit])\n",
    "        else:\n",
    "            x = (other.value / Ccy.currencies[other.unit] * Ccy.currencies[self.unit])\n",
    "            self.value += x\n",
    "        return self\n",
    "    def __radd__(self, other):\n",
    "        res = self + other\n",
    "        if self.unit != \"EUR\":\n",
    "            res.changeTo(\"EUR\")\n",
    "        return res\n",
    "        # __sub__, __isub__ and __rsub__ can be defined analogue\n",
    "    def __mul__(self, other):\n",
    "        \"\"\"\n",
    "            Multiplication is only defined as a scalar multiplication, \n",
    "            i.e. a money value can be multiplied by an int or a float.\n",
    "            It is not possible to multiply to money values\n",
    "        \"\"\"\n",
    "        if type(other)==int or type(other)==float:\n",
    "            return Ccy(self.value * other, self.unit)\n",
    "        else:\n",
    "            raise TypeError(\"unsupported operand type(s) for *: 'Ccy' and \" + type(other).__name__)  \n",
    "    def __rmul__(self, other):\n",
    "        return self.__mul__(other)\n",
    "    def __imul__(self, other):\n",
    "        if type(other)==int or type(other)==float:\n",
    "            self.value *= other\n",
    "            return self\n",
    "        else:\n",
    "            raise TypeError(\"unsupported operand type(s) for *: 'Ccy' and \" + type(other).__name__) "
   ]
  },
  {
   "cell_type": "code",
   "execution_count": 15,
   "metadata": {},
   "outputs": [
    {
     "data": {
      "text/plain": [
       "Ccy(21.215104685942173, \"EUR\")"
      ]
     },
     "execution_count": 15,
     "metadata": {},
     "output_type": "execute_result"
    }
   ],
   "source": [
    "# let's test our new class implementation\n",
    "x = Ccy(10.00, \"EUR\")\n",
    "y = Ccy(10.00, \"GBP\")\n",
    "x + y"
   ]
  },
  {
   "cell_type": "code",
   "execution_count": 16,
   "metadata": {},
   "outputs": [
    {
     "name": "stdout",
     "output_type": "stream",
     "text": [
      "21.22 EUR\n"
     ]
    }
   ],
   "source": [
    "print(x + y)"
   ]
  },
  {
   "cell_type": "code",
   "execution_count": 17,
   "metadata": {},
   "outputs": [
    {
     "name": "stdout",
     "output_type": "stream",
     "text": [
      "30.09 EUR\n"
     ]
    }
   ],
   "source": [
    "print(2*x + y*0.9)"
   ]
  }
 ],
 "metadata": {
  "kernelspec": {
   "display_name": "Python 3",
   "language": "python",
   "name": "python3"
  },
  "language_info": {
   "codemirror_mode": {
    "name": "ipython",
    "version": 3
   },
   "file_extension": ".py",
   "mimetype": "text/x-python",
   "name": "python",
   "nbconvert_exporter": "python",
   "pygments_lexer": "ipython3",
   "version": "3.7.3"
  }
 },
 "nbformat": 4,
 "nbformat_minor": 2
}
