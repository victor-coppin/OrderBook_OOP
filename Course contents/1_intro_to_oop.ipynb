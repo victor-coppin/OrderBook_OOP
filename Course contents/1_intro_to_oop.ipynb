{
 "cells": [
  {
   "cell_type": "markdown",
   "metadata": {},
   "source": [
    "### Acknowledgment\n",
    "Many thanks to Bernd Klein from whom this course has been adapted."
   ]
  },
  {
   "cell_type": "markdown",
   "metadata": {},
   "source": [
    "# Review of programming paradigms\n",
    "## Imperative Programming\n",
    "As a programmer, you might find yourself employing a form of programming known as _imperative programming_, in which the programmer directly invokes commands which modify the state of the program. Examples of such commands are calling functions you've written, as well as the use of loops, if statements and variables.\n",
    "## Object Oriented Programming\n",
    "Another incredibly common programming paradigm is known as _Object Oriented Programming (OOP)_, in which a programmer defines objects which are characterized by their properties and behaviours, and programs consist mostly of interactions between these objects.\n",
    "\n",
    "Python allows programmers to adopt many paradigms; however, **Imperative Programming** and **Object-Oriented Programming** are two of the most commonly used."
   ]
  },
  {
   "cell_type": "markdown",
   "metadata": {},
   "source": [
    "## A little history\n",
    "Though many computer scientists and programmers consider OOP to be a modern programming paradigm, the roots go back to 1960s. The first programming language to use objects was Simula 67. As the name implies, Simula 67 was introduced in the year 1967. A major breakthrough for object-oriented programming came with the programming language Smalltalk in the 1970s."
   ]
  },
  {
   "cell_type": "markdown",
   "metadata": {},
   "source": [
    "## The 4 principles of OOP and how Python deals with them\n",
    "- Encapsulation\n",
    "- Data Abstraction\n",
    "- Polymorphism\n",
    "- Inheritance"
   ]
  },
  {
   "cell_type": "markdown",
   "metadata": {},
   "source": [
    "Before we start the section about the way OOP is used in Python, we want to give you a general idea about object-oriented programming. For this purpose, we would like to draw your attention to a public library. Let's think about a huge one, like the \"British Library\" in London or the \"New York Public Library\" in New York. If it helps, you can imagine the libraries in Paris, Berlin, Ottawa or Toronto as well. Each of these contain an organized collection of books, periodicals, newspapers, audiobooks, films and so on.\n",
    "\n",
    "Generally, there are two opposed ways of keeping the stock in a library. You can use a \"closed access\" method that is the stock is not displayed on open shelves. In this system, trained staff brings the books and other publications to the users on demand. Another way of running a library is open-access shelving, also known as \"open shelves\". \"Open\" means open to all users of the library not only specially trained staff. In this case the books are openly displayed. Imperative languages like C could be seen as open-access shelving libraries. The user can do everything. It's up to the user to find the books and to put them back at the right shelf. Even though this is great for the user, it might lead to serious problems in the long run. For example some books will be misplaced, so it's hard to find them again. As you may have guessed already, \"closed access\" can be compared to object oriented programming. The analogy can be seen like this: The books and other publications, which a library offers, are like the data in an object-oriented program. Access to the books is restricted like access to the data is restricted in OOP. Getting or returning a book is only possible via the staff. The staff functions like the methods in OOP, which control the access to the data. So the data - often called attributes - in such a program can be seen as being hidden and protected by a shell, and it can only be accessed by special functions, usually called methods in the OOP context. Putting the data behind a \"shell\" is called **_Encapsulation_**. So a library can be regarded as a class and a book is an instance or an object of this class. Generally speaking, an object is defined by a class. A class is a formal description of how an object is designed, i.e. which attributes and methods it has. These objects are called instances as well. The expressions are in most cases used synonymously. A class should not be confused with an object."
   ]
  },
  {
   "cell_type": "markdown",
   "metadata": {},
   "source": [
    "## OOP in Python\n",
    "Everything is a class in Python. Guido van Rossum has designed the language according to the principle \"first-class everything\". He wrote: \"One of my goals for Python was to make it so that all objects were \"first class.\" By this, I meant that I wanted all objects that could be named in the language (e.g., integers, strings, functions, classes, modules, methods, and so on) to have equal status. That is, they can be assigned to variables, placed in lists, stored in dictionaries, passed as arguments, and so forth.\" (Blog, The History of Python, February 27, 2009) In other words, \"everything\" is treated the same way, everything is a class: functions and methods are values just like lists, integers or floats. Each of these are instances of their corresponding classes."
   ]
  },
  {
   "cell_type": "code",
   "execution_count": 76,
   "metadata": {},
   "outputs": [
    {
     "data": {
      "text/plain": [
       "int"
      ]
     },
     "execution_count": 76,
     "metadata": {},
     "output_type": "execute_result"
    }
   ],
   "source": [
    "x = 42\n",
    "type(x)"
   ]
  },
  {
   "cell_type": "code",
   "execution_count": 77,
   "metadata": {},
   "outputs": [
    {
     "data": {
      "text/plain": [
       "float"
      ]
     },
     "execution_count": 77,
     "metadata": {},
     "output_type": "execute_result"
    }
   ],
   "source": [
    "y = 4.34\n",
    "type(y)"
   ]
  },
  {
   "cell_type": "code",
   "execution_count": 78,
   "metadata": {},
   "outputs": [
    {
     "data": {
      "text/plain": [
       "function"
      ]
     },
     "execution_count": 78,
     "metadata": {},
     "output_type": "execute_result"
    }
   ],
   "source": [
    "def f(x):\n",
    "    return x + 1\n",
    "type(f)"
   ]
  },
  {
   "cell_type": "code",
   "execution_count": 79,
   "metadata": {},
   "outputs": [
    {
     "data": {
      "text/plain": [
       "module"
      ]
     },
     "execution_count": 79,
     "metadata": {},
     "output_type": "execute_result"
    }
   ],
   "source": [
    "import math\n",
    "type(math)"
   ]
  },
  {
   "cell_type": "markdown",
   "metadata": {},
   "source": [
    "One of the many integrated classes in Python is the list class. The list class provides a wealth of methods to build lists, to access and change elements, or to remove elements:"
   ]
  },
  {
   "cell_type": "code",
   "execution_count": 81,
   "metadata": {},
   "outputs": [
    {
     "name": "stdout",
     "output_type": "stream",
     "text": [
      "6\n"
     ]
    }
   ],
   "source": [
    "x = [3,6,9]\n",
    "y = [45, \"abc\"]\n",
    "print(x[1])"
   ]
  },
  {
   "cell_type": "code",
   "execution_count": 82,
   "metadata": {},
   "outputs": [
    {
     "name": "stdout",
     "output_type": "stream",
     "text": [
      "abc\n"
     ]
    }
   ],
   "source": [
    "x[1] = 99\n",
    "x.append(42)\n",
    "last = y.pop()\n",
    "print(last)"
   ]
  },
  {
   "cell_type": "markdown",
   "metadata": {},
   "source": [
    "The variables x and y of the previous example denote two instances of the list class. In simplified terms, we have said so far that \"x and y are lists\".\n",
    "\n",
    "_pop_ and _append_ of the previous example are methods of the list class. _pop_ returns the top (or you might think of it as the \"rightest\") element of the list and removes this element from the list."
   ]
  },
  {
   "cell_type": "markdown",
   "metadata": {},
   "source": [
    "## A minimal class in Python\n",
    "We will design and use a robot class in Python as an example to demonstrate the most important terms and ideas of object orientation. We will start with the simplest class in Python.\n",
    "\n",
    "```\n",
    "class Robot:\n",
    "    pass\n",
    "```    \n",
    "We can realize the fundamental syntactical structure of a class in Python: A class consists of two parts: the **header** and the **body**. The header usually consists of just one line of code. It begins with the keyword \"class\" followed by a blank and an arbitrary name for the class. The class name is \"Robot\" in our case. The class name is followed by a listing of other class names, which are classes from which the defined class inherits (these classes are called superclasses, base classes or sometimes parent classes. More on them later).\n",
    "\n",
    "The body of a class consists of an indented block of statements. In our case a single statement, the \"pass\" statement.\n",
    "\n",
    "A class object is created, when the definition is left normally, i.e. via the end. This is basically a wrapper around the contents of the namespace created by the class definition.\n",
    "\n",
    "It's hard to believe, especially for C++ or Java programmers, but we have already defined a complete class with just three words and two lines of code. We are capable of using this class as well:"
   ]
  },
  {
   "cell_type": "code",
   "execution_count": 85,
   "metadata": {},
   "outputs": [],
   "source": [
    "class Robot:\n",
    "    pass # need to use pass because class struct need a body\n",
    "if __name__ == \"__main__\": # indicate Python where should the functionnal part start \n",
    "    x = Robot()\n",
    "    y = Robot()\n",
    "    y2 = y\n"
   ]
  },
  {
   "cell_type": "code",
   "execution_count": 86,
   "metadata": {},
   "outputs": [
    {
     "name": "stdout",
     "output_type": "stream",
     "text": [
      "True\n",
      "False\n"
     ]
    }
   ],
   "source": [
    "    print(y == y2)\n",
    "    print(y == x)"
   ]
  },
  {
   "cell_type": "markdown",
   "metadata": {},
   "source": [
    "We have created two different robots x and y in our example. Besides this, we have created a reference y2 to y, i.e. y2 is an alias name for y."
   ]
  },
  {
   "cell_type": "markdown",
   "metadata": {},
   "source": [
    "## Class Attributes\n",
    "Usually the words \"attribute\" and \"property\" can be used in some cases as synonyms. Both can have the meaning \"An attribute, feature, quality, or characteristic of something or someone\". Usually an \"attribute\" is used to denote a specific ability or characteristic which something or someone has, like black hair, no hair, or a quick perception, or \"her quickness to grasp new tasks\".\n",
    "\n",
    "We will learn later that properties and attributes are essentially different things in Python. This section is about attributes in Python. So far our robots have no attributes. Not even a name, like it is customary for ordinary robots. So, let's implement a name attribute. Other conceivable attributes can be \"type designation\", \"build year\", etc.\n",
    "\n",
    "Attributes are created inside a class definition. We can dynamically create arbitrary new attributes for existing instances of a class. We do this by joining an arbitrary name to the instance name, separated by a dot \".\". In the following example, we demonstrate this by creating an attribute for the name and the year built:"
   ]
  },
  {
   "cell_type": "code",
   "execution_count": 89,
   "metadata": {},
   "outputs": [
    {
     "name": "stdout",
     "output_type": "stream",
     "text": [
      "Marvin\n"
     ]
    }
   ],
   "source": [
    "class Robot:\n",
    "    pass\n",
    "x = Robot()\n",
    "y = Robot()\n",
    "x.name = \"Marvin\" # Python understand that it create an attribute name for Robot because the synthax comes from the base level\n",
    "x.build_year = \"1979\"\n",
    "y.name = \"Caliban\"\n",
    "y.build_year = \"1993\"\n",
    "print(x.name)"
   ]
  },
  {
   "cell_type": "markdown",
   "metadata": {},
   "source": [
    "This way to create the attribute of the class, break the rules of encapsulation, of the class as a blueprint."
   ]
  },
  {
   "cell_type": "code",
   "execution_count": 91,
   "metadata": {},
   "outputs": [
    {
     "name": "stdout",
     "output_type": "stream",
     "text": [
      "1993\n"
     ]
    }
   ],
   "source": [
    "print(y.build_year)"
   ]
  },
  {
   "cell_type": "markdown",
   "metadata": {},
   "source": [
    "Note that this is not the way to properly create instance attributes. This example will just help make the following explanations easier to understand.\n",
    "\n",
    "If you want to know what's happening internally: The instances possess dictionaries ```__dict__```, which they use to store their attributes and their corresponding values:"
   ]
  },
  {
   "cell_type": "code",
   "execution_count": 93,
   "metadata": {},
   "outputs": [
    {
     "data": {
      "text/plain": [
       "{'name': 'Marvin', 'build_year': '1979'}"
      ]
     },
     "execution_count": 93,
     "metadata": {},
     "output_type": "execute_result"
    }
   ],
   "source": [
    "x.__dict__"
   ]
  },
  {
   "cell_type": "code",
   "execution_count": 94,
   "metadata": {},
   "outputs": [
    {
     "data": {
      "text/plain": [
       "{'name': 'Caliban', 'build_year': '1993'}"
      ]
     },
     "execution_count": 94,
     "metadata": {},
     "output_type": "execute_result"
    }
   ],
   "source": [
    "y.__dict__"
   ]
  },
  {
   "cell_type": "markdown",
   "metadata": {},
   "source": [
    "Attributes can be bound to class names as well. In this case, each instance will possess this name as well. Watch what happens if you assign the same name to an instance:"
   ]
  },
  {
   "cell_type": "code",
   "execution_count": 96,
   "metadata": {},
   "outputs": [
    {
     "data": {
      "text/plain": [
       "'Kuka'"
      ]
     },
     "execution_count": 96,
     "metadata": {},
     "output_type": "execute_result"
    }
   ],
   "source": [
    "class Robot:\n",
    "    pass    \n",
    "x = Robot()\n",
    "\n",
    "Robot.brand = \"Kuka\" #giving a brand attribute to the Robot class with value kuka\n",
    "x.brand"
   ]
  },
  {
   "cell_type": "code",
   "execution_count": 97,
   "metadata": {},
   "outputs": [
    {
     "data": {
      "text/plain": [
       "'Kuka'"
      ]
     },
     "execution_count": 97,
     "metadata": {},
     "output_type": "execute_result"
    }
   ],
   "source": [
    "x.brand"
   ]
  },
  {
   "cell_type": "code",
   "execution_count": 98,
   "metadata": {},
   "outputs": [
    {
     "data": {
      "text/plain": [
       "'Kuka'"
      ]
     },
     "execution_count": 98,
     "metadata": {},
     "output_type": "execute_result"
    }
   ],
   "source": [
    "x.brand = \"Thales\" # changing the value of brand for the x and fill a dict just for x\n",
    "Robot.brand"
   ]
  },
  {
   "cell_type": "code",
   "execution_count": 99,
   "metadata": {},
   "outputs": [
    {
     "data": {
      "text/plain": [
       "'Kuka'"
      ]
     },
     "execution_count": 99,
     "metadata": {},
     "output_type": "execute_result"
    }
   ],
   "source": [
    "y = Robot() \n",
    "y.brand "
   ]
  },
  {
   "cell_type": "code",
   "execution_count": 100,
   "metadata": {},
   "outputs": [],
   "source": [
    "Robot.brand = \"Thales\"\n"
   ]
  },
  {
   "cell_type": "code",
   "execution_count": 101,
   "metadata": {},
   "outputs": [
    {
     "data": {
      "text/plain": [
       "'Thales'"
      ]
     },
     "execution_count": 101,
     "metadata": {},
     "output_type": "execute_result"
    }
   ],
   "source": [
    "y.brand"
   ]
  },
  {
   "cell_type": "code",
   "execution_count": 54,
   "metadata": {},
   "outputs": [
    {
     "data": {
      "text/plain": [
       "'Thales'"
      ]
     },
     "execution_count": 54,
     "metadata": {},
     "output_type": "execute_result"
    }
   ],
   "source": [
    "x.brand"
   ]
  },
  {
   "cell_type": "code",
   "execution_count": 120,
   "metadata": {},
   "outputs": [
    {
     "data": {
      "text/plain": [
       "{'brand': 'Thales'}"
      ]
     },
     "execution_count": 120,
     "metadata": {},
     "output_type": "execute_result"
    }
   ],
   "source": [
    "#If you look at the __dict__ dictionaries, you can see what's happening\n",
    "x.__dict__"
   ]
  },
  {
   "cell_type": "code",
   "execution_count": 124,
   "metadata": {},
   "outputs": [
    {
     "data": {
      "text/plain": [
       "{}"
      ]
     },
     "execution_count": 124,
     "metadata": {},
     "output_type": "execute_result"
    }
   ],
   "source": [
    "y.__dict__"
   ]
  },
  {
   "cell_type": "code",
   "execution_count": 58,
   "metadata": {},
   "outputs": [
    {
     "data": {
      "text/plain": [
       "mappingproxy({'__module__': '__main__',\n",
       "              '__dict__': <attribute '__dict__' of 'Robot' objects>,\n",
       "              '__weakref__': <attribute '__weakref__' of 'Robot' objects>,\n",
       "              '__doc__': None,\n",
       "              'brand': 'Thales'})"
      ]
     },
     "execution_count": 58,
     "metadata": {},
     "output_type": "execute_result"
    }
   ],
   "source": [
    "Robot.__dict__"
   ]
  },
  {
   "cell_type": "markdown",
   "metadata": {},
   "source": [
    "If you try to access y.brand, Python checks first, if \"brand\" is a key of the y.```__dict__``` dictionary. If it is not, Python checks, if \"brand\" is a key of the Robot.```__dict__```. If so, the value can be retrieved.\n",
    "\n",
    "If an attribute name is not included in either dictionary, the attribute name is not defined. If you try to access a non-existing attribute, you will raise an AttributeError:"
   ]
  },
  {
   "cell_type": "code",
   "execution_count": 126,
   "metadata": {},
   "outputs": [
    {
     "ename": "AttributeError",
     "evalue": "'Robot' object has no attribute 'energy'",
     "output_type": "error",
     "traceback": [
      "\u001b[1;31m---------------------------------------------------------------------------\u001b[0m",
      "\u001b[1;31mAttributeError\u001b[0m                            Traceback (most recent call last)",
      "Cell \u001b[1;32mIn[126], line 1\u001b[0m\n\u001b[1;32m----> 1\u001b[0m x\u001b[38;5;241m.\u001b[39menergy\n",
      "\u001b[1;31mAttributeError\u001b[0m: 'Robot' object has no attribute 'energy'"
     ]
    }
   ],
   "source": [
    "x.energy #attribute error because x don't have energy attribute and Robot object doesn't too "
   ]
  },
  {
   "cell_type": "markdown",
   "metadata": {},
   "source": [
    "By using the function **getattr**, you can prevent this exception, if you provide a default value as the third argument:"
   ]
  },
  {
   "cell_type": "code",
   "execution_count": 128,
   "metadata": {},
   "outputs": [
    {
     "data": {
      "text/plain": [
       "100"
      ]
     },
     "execution_count": 128,
     "metadata": {},
     "output_type": "execute_result"
    }
   ],
   "source": [
    "getattr(x, 'energy', 100) #take the object, check if attribute then if not, create an attribute."
   ]
  },
  {
   "cell_type": "markdown",
   "metadata": {},
   "source": [
    "Binding attributes to objects is a general concept in Python. Even function names can be attributed. You can bind an attribute to a function name in the same way we have done so far to other instances of classes:"
   ]
  },
  {
   "cell_type": "code",
   "execution_count": 22,
   "metadata": {},
   "outputs": [
    {
     "name": "stdout",
     "output_type": "stream",
     "text": [
      "42\n"
     ]
    }
   ],
   "source": [
    "def f(x):\n",
    "    return 42\n",
    "f.x = 42\n",
    "print(f.x)"
   ]
  },
  {
   "cell_type": "markdown",
   "metadata": {},
   "source": [
    "This can be used as a replacement for the static function variables of C and C++, which are not possible in Python. We use a counter attribute in the following example:"
   ]
  },
  {
   "cell_type": "code",
   "execution_count": 134,
   "metadata": {},
   "outputs": [
    {
     "name": "stdout",
     "output_type": "stream",
     "text": [
      "10\n"
     ]
    }
   ],
   "source": [
    "def f(x):\n",
    "    f.counter = getattr(f, \"counter\", 0) + 1 # get the attribute or create it, then itterate it each time it is used. \n",
    "    return \"Monty Python\"\n",
    "for i in range(10):\n",
    "    f(i)\n",
    "print(f.counter)"
   ]
  },
  {
   "cell_type": "markdown",
   "metadata": {},
   "source": [
    "Some uncertainty may arise at this point. It is possible to assign attributes to most class instances, but this has nothing to do with defining classes. We will see soon how to assign attributes when we define a class.\n",
    "\n",
    "To properly create instances of classes, we also need methods."
   ]
  },
  {
   "cell_type": "markdown",
   "metadata": {},
   "source": [
    "## Class Methods\n",
    "Methods in Python are essentially functions in accordance with Guido's saying \"first-class everything\".\n",
    "\n",
    "Let's define a function \"hi\", which takes an object \"obj\" as an argument and assumes that this object has an attribute \"name\". We will also define our basic Robot class again:"
   ]
  },
  {
   "cell_type": "code",
   "execution_count": 24,
   "metadata": {},
   "outputs": [
    {
     "name": "stdout",
     "output_type": "stream",
     "text": [
      "Hi, I am Marvin!\n"
     ]
    }
   ],
   "source": [
    "def hi(obj):\n",
    "    print(\"Hi, I am \" + obj.name + \"!\")\n",
    "class Robot:\n",
    "    pass\n",
    "x = Robot()\n",
    "x.name = \"Marvin\"\n",
    "hi(x)"
   ]
  },
  {
   "cell_type": "code",
   "execution_count": 25,
   "metadata": {},
   "outputs": [
    {
     "name": "stdout",
     "output_type": "stream",
     "text": [
      "Hi, I am Marvin\n"
     ]
    }
   ],
   "source": [
    "# We will now bind the function \"hi\" to a class attribute \"say_hi\"\n",
    "def hi(obj):\n",
    "        print(\"Hi, I am \" + obj.name)\n",
    "class Robot:\n",
    "    say_hi = hi # get the fucntion hi to create a method inside the class\n",
    "\n",
    "x = Robot()\n",
    "x.name = \"Marvin\"\n",
    "Robot.say_hi(x)"
   ]
  },
  {
   "cell_type": "markdown",
   "metadata": {},
   "source": [
    "\"say_hi\" is called a method. Usually, it will be called like this:\n",
    "x.say_hi()\n",
    "\n",
    "It is possible to define methods like this, but you shouldn't do it.\n",
    "\n",
    "The proper way to do it:\n",
    "- Instead of defining a function outside of a class definition and binding it to a class attribute, we define a method directly inside (indented) of a class definition.\n",
    "- A method is \"just\" a function which is defined inside a class.\n",
    "- The first parameter is used as reference to the calling instance.\n",
    "- This parameter is usually called self.\n",
    "- Self corresponds to the Robot object x.\n",
    "\n",
    "We have seen that a method differs from a function only in two aspects:\n",
    "- It belongs to a class, and it is defined within a class.\n",
    "- The first parameter in the definition of a method has to be a reference to the instance, which called the method. This parameter is usually called \"self\".\n",
    "- As a matter of fact, \"self\" is not a Python keyword. It's just a naming convention (C++ or Java programmers are free to call it \"this\").\n",
    "\n",
    "Most other object-oriented programming languages pass the reference to the object (self) as a hidden parameter to the methods.\n",
    "\n",
    "You saw before that the calls \"Robot.say_hi(x)\". and \"x.say_hi()\" are equivalent. \"x.say_hi()\" can be seen as an \"abbreviated\" form, i.e. Python automatically binds it to the instance name. Besides this \"x.say_hi()\" is the usual way to call methods in Python and in other object oriented languages.\n",
    "\n",
    "For a Class C, an instance x of C and a method m of C the following three method calls are equivalent:\n",
    "- type(x).m(x, ...)\n",
    "- C.m(x, ...)\n",
    "- x.m(...)\n",
    "\n",
    "Before you proceed, you may mull over the previous example for a while. Can you figure out, what is wrong in the design?\n",
    "\n",
    "There is more than one thing about this code which may disturb you, but the essential problem at the moment is the fact that we create a robot and that after the creation, we shouldn't forget about naming it! If we forget it, \"say_hi\" will raise an error.\n",
    "\n",
    "We need a mechanism to initialize an instance right after its creation. This is the ```__init__``` method."
   ]
  },
  {
   "cell_type": "markdown",
   "metadata": {},
   "source": [
    "## The __init__ Method\n",
    "We want to define the attributes of an instance right after its creation. ```__init__``` is a method which is immediately and automatically called after an instance has been created. This name is fixed and it is not possible to choose another name. ```__init__``` is one of the so-called **magic method** (more on them later). The ```__init__``` method is used to initialize an instance. There is no explicit constructor or destructor method in Python, as they are known in C++ and Java. The ```__init__``` method can be anywhere in a class definition, but it is usually the first method of a class, i.e. it follows right after the class header."
   ]
  },
  {
   "cell_type": "code",
   "execution_count": 142,
   "metadata": {},
   "outputs": [
    {
     "name": "stdout",
     "output_type": "stream",
     "text": [
      "__init__ has been executed!\n"
     ]
    }
   ],
   "source": [
    "class A:\n",
    "    def __init__(self): \n",
    "        print(\"__init__ has been executed!\")\n",
    "if __name__ == \"__main__\":\n",
    "    x = A()"
   ]
  },
  {
   "cell_type": "code",
   "execution_count": 27,
   "metadata": {},
   "outputs": [
    {
     "name": "stdout",
     "output_type": "stream",
     "text": [
      "Hi, I am a robot without a name\n",
      "Hi, I am Marvin\n"
     ]
    }
   ],
   "source": [
    "# We add an __init__ method to our robot class:\n",
    "class Robot:\n",
    "    def __init__(self, name=None):\n",
    "        self.name = name   \n",
    "    def say_hi(self):\n",
    "        if self.name:\n",
    "            print(\"Hi, I am \" + self.name)\n",
    "        else:\n",
    "            print(\"Hi, I am a robot without a name\")\n",
    "x = Robot()\n",
    "x.say_hi()\n",
    "y = Robot(\"Marvin\") # the same as y = Robot() + y.name = \"Marvin\" \n",
    "y.say_hi()"
   ]
  },
  {
   "attachments": {
    "image.png": {
     "image/png": "[encoded data removed]"
    }
   },
   "cell_type": "markdown",
   "metadata": {},
   "source": [
    "## Data Abstraction, Data Encapsulation, and Information Hiding\n",
    "![image.png](attachment:image.png)\n",
    "\n",
    "Data Abstraction, Data Encapsulation and Information Hiding are often synonymously used in books and tutorials on OOP. However, there is a difference. Encapsulation is seen as the bundling of data with the methods that operate on that data. **Information hiding** on the other hand is the principle that some internal information or data is \"hidden\", so that it can't be accidentally changed. **Data encapsulation** via methods doesn't necessarily mean that the data is hidden. You might be capable of accessing and seeing the data anyway, but using the methods is recommended. Finally, **data abstraction** is present if both data hiding and data encapsulation are used. In other words, data abstraction is the broader term:\n",
    "\n",
    "**Data Abstraction = Data Encapsulation + Data Hiding**\n",
    "\n",
    "Encapsulation is often accomplished by providing two kinds of methods for attributes: The methods for retrieving or accessing the values of attributes are called _getter_ methods. Getter methods do not change the values of attributes, they just return the values. The methods used for changing the values of attributes are called _setter_ methods.\n",
    "\n",
    "We will define now a Robot class with a Getter and a Setter for the name attribute. We will call them get_name and set_name accordingly."
   ]
  },
  {
   "cell_type": "code",
   "execution_count": 28,
   "metadata": {},
   "outputs": [
    {
     "name": "stdout",
     "output_type": "stream",
     "text": [
      "Hi, I am Henry\n",
      "Henry\n"
     ]
    }
   ],
   "source": [
    "class Robot:\n",
    "    def __init__(self, name=None):\n",
    "        self.name = name   \n",
    "    def say_hi(self):\n",
    "        if self.name:\n",
    "            print(\"Hi, I am \" + self.name)\n",
    "        else:\n",
    "            print(\"Hi, I am a robot without a name\")\n",
    "    def set_name(self, name):\n",
    "        self.name = name\n",
    "    def get_name(self):\n",
    "        return self.name\n",
    "x = Robot()\n",
    "x.set_name(\"Henry\")\n",
    "x.say_hi()\n",
    "y = Robot()\n",
    "y.set_name(x.get_name())\n",
    "print(y.get_name())"
   ]
  },
  {
   "cell_type": "code",
   "execution_count": 30,
   "metadata": {},
   "outputs": [
    {
     "name": "stdout",
     "output_type": "stream",
     "text": [
      "Hi, I am Henry\n",
      "I was built in 2008\n",
      "Hi, I am Marvin\n",
      "It's not known when I was created!\n"
     ]
    }
   ],
   "source": [
    "# We can do the same for the build_year attribute\n",
    "class Robot:\n",
    "    def __init__(self, \n",
    "                 name=None,\n",
    "                 build_year=None):\n",
    "        self.name = name   \n",
    "        self.build_year = build_year\n",
    "    def say_hi(self):\n",
    "        if self.name:\n",
    "            print(\"Hi, I am \" + self.name)\n",
    "        else:\n",
    "            print(\"Hi, I am a robot without a name\")\n",
    "        if self.build_year:\n",
    "            print(\"I was built in \" + str(self.build_year))\n",
    "        else:\n",
    "            print(\"It's not known when I was created!\")\n",
    "    def set_name(self, name):\n",
    "        self.name = name\n",
    "    def get_name(self):\n",
    "        return self.name    \n",
    "    def set_build_year(self, by):\n",
    "        self.build_year = by\n",
    "    def get_build_year(self):\n",
    "        return self.build_year    \n",
    "x = Robot(\"Henry\", 2008)\n",
    "y = Robot()\n",
    "y.set_name(\"Marvin\")\n",
    "x.say_hi()\n",
    "y.say_hi()"
   ]
  },
  {
   "cell_type": "markdown",
   "metadata": {},
   "source": [
    "There is still something wrong with our Robot class. The Zen of Python says: \"There should be one-- and preferably only one --obvious way to do it.\" Our Robot class provides us with two ways to access or to change the \"name\" or the \"build_year\" attribute. This can be prevented by using private attributes."
   ]
  },
  {
   "cell_type": "markdown",
   "metadata": {},
   "source": [
    "## __str__ and __repr__ Methods\n",
    "We want to introduce two important magic methods ```__str__``` and ```__repr__```, which we will need in future examples. We have already encountered the ```__str__``` method. We had seen that we can depict various data as string by using the str function, which uses \"magically\" the internal ```__str__``` method of the corresponding data type. ```__repr__``` is similar. It also produces a string representation."
   ]
  },
  {
   "cell_type": "code",
   "execution_count": 31,
   "metadata": {},
   "outputs": [
    {
     "name": "stdout",
     "output_type": "stream",
     "text": [
      "['Python', 'Java', 'C++', 'Perl']\n"
     ]
    }
   ],
   "source": [
    "l = [\"Python\", \"Java\", \"C++\", \"Perl\"]\n",
    "print(l)"
   ]
  },
  {
   "cell_type": "code",
   "execution_count": 32,
   "metadata": {},
   "outputs": [
    {
     "data": {
      "text/plain": [
       "\"['Python', 'Java', 'C++', 'Perl']\""
      ]
     },
     "execution_count": 32,
     "metadata": {},
     "output_type": "execute_result"
    }
   ],
   "source": [
    "str(l)"
   ]
  },
  {
   "cell_type": "code",
   "execution_count": 33,
   "metadata": {},
   "outputs": [
    {
     "data": {
      "text/plain": [
       "\"['Python', 'Java', 'C++', 'Perl']\""
      ]
     },
     "execution_count": 33,
     "metadata": {},
     "output_type": "execute_result"
    }
   ],
   "source": [
    "repr(l)"
   ]
  },
  {
   "cell_type": "code",
   "execution_count": 34,
   "metadata": {},
   "outputs": [
    {
     "name": "stdout",
     "output_type": "stream",
     "text": [
      "{'a': 3497, 'b': 8011, 'c': 8300}\n"
     ]
    }
   ],
   "source": [
    "d = {\"a\":3497, \"b\":8011, \"c\":8300}\n",
    "print(d)"
   ]
  },
  {
   "cell_type": "code",
   "execution_count": 35,
   "metadata": {},
   "outputs": [
    {
     "data": {
      "text/plain": [
       "\"{'a': 3497, 'b': 8011, 'c': 8300}\""
      ]
     },
     "execution_count": 35,
     "metadata": {},
     "output_type": "execute_result"
    }
   ],
   "source": [
    "str(d)"
   ]
  },
  {
   "cell_type": "code",
   "execution_count": 36,
   "metadata": {},
   "outputs": [
    {
     "data": {
      "text/plain": [
       "\"{'a': 3497, 'b': 8011, 'c': 8300}\""
      ]
     },
     "execution_count": 36,
     "metadata": {},
     "output_type": "execute_result"
    }
   ],
   "source": [
    "repr(d)"
   ]
  },
  {
   "cell_type": "code",
   "execution_count": 37,
   "metadata": {},
   "outputs": [
    {
     "data": {
      "text/plain": [
       "'587.78'"
      ]
     },
     "execution_count": 37,
     "metadata": {},
     "output_type": "execute_result"
    }
   ],
   "source": [
    "x = 587.78\n",
    "str(x)"
   ]
  },
  {
   "cell_type": "code",
   "execution_count": 38,
   "metadata": {},
   "outputs": [
    {
     "data": {
      "text/plain": [
       "'587.78'"
      ]
     },
     "execution_count": 38,
     "metadata": {},
     "output_type": "execute_result"
    }
   ],
   "source": [
    "repr(x)"
   ]
  },
  {
   "cell_type": "markdown",
   "metadata": {},
   "source": [
    "If you apply \"str\" or \"repr\" to an object, Python is looking for a corresponding method ```__str__``` or ```__repr__``` in the class definition of the object. If the method does exist, it will be called. In the following example, we define a class A, having neither a ```__str__``` nor a ```__repr__``` method. We want to see what happens if we use print directly on an instance of this class, or if we apply \"str\" or \"repr\" to this instance:"
   ]
  },
  {
   "cell_type": "code",
   "execution_count": 39,
   "metadata": {},
   "outputs": [
    {
     "name": "stdout",
     "output_type": "stream",
     "text": [
      "<__main__.A object at 0x000002EAE05F3898>\n"
     ]
    }
   ],
   "source": [
    "class A:\n",
    "    pass\n",
    "a = A()\n",
    "print(a)"
   ]
  },
  {
   "cell_type": "code",
   "execution_count": 40,
   "metadata": {},
   "outputs": [
    {
     "name": "stdout",
     "output_type": "stream",
     "text": [
      "<__main__.A object at 0x000002EAE05F3898>\n"
     ]
    }
   ],
   "source": [
    "print(repr(a))"
   ]
  },
  {
   "cell_type": "code",
   "execution_count": 41,
   "metadata": {},
   "outputs": [
    {
     "name": "stdout",
     "output_type": "stream",
     "text": [
      "<__main__.A object at 0x000002EAE05F3898>\n"
     ]
    }
   ],
   "source": [
    "print(str(a))"
   ]
  },
  {
   "cell_type": "code",
   "execution_count": 42,
   "metadata": {},
   "outputs": [
    {
     "name": "stdout",
     "output_type": "stream",
     "text": [
      "<__main__.A object at 0x000002EAE05F3898>\n"
     ]
    }
   ],
   "source": [
    "print(a)"
   ]
  },
  {
   "cell_type": "markdown",
   "metadata": {},
   "source": [
    "As both methods are not available, Python uses the default output for our object \"a\".\n",
    "\n",
    "If a class has a ```__str__``` method, the method will be used for an instance x of that class, if either the function str is applied to it or if it is used in a print function. ```__str__``` will not be used, if ```__repr__``` is called, or if we try to output the value directly in an interactive Python shell:"
   ]
  },
  {
   "cell_type": "code",
   "execution_count": 43,
   "metadata": {},
   "outputs": [
    {
     "name": "stdout",
     "output_type": "stream",
     "text": [
      "<__main__.A object at 0x000002EAE05F3B00>\n"
     ]
    }
   ],
   "source": [
    "class A:\n",
    "    def __str__(self):\n",
    "        return \"42\"\n",
    "a = A()\n",
    "print(repr(a))"
   ]
  },
  {
   "cell_type": "code",
   "execution_count": 44,
   "metadata": {},
   "outputs": [
    {
     "name": "stdout",
     "output_type": "stream",
     "text": [
      "42\n"
     ]
    }
   ],
   "source": [
    "print(str(a))"
   ]
  },
  {
   "cell_type": "code",
   "execution_count": 45,
   "metadata": {},
   "outputs": [
    {
     "data": {
      "text/plain": [
       "<__main__.A at 0x2eae05f3b00>"
      ]
     },
     "execution_count": 45,
     "metadata": {},
     "output_type": "execute_result"
    }
   ],
   "source": [
    "a"
   ]
  },
  {
   "cell_type": "markdown",
   "metadata": {},
   "source": [
    "Otherwise, if a class has only the ```__repr__``` method and no ```__str__``` method, ```__repr__``` will be applied in that situation, whereas ```__str__``` would be applied, if it were available:"
   ]
  },
  {
   "cell_type": "code",
   "execution_count": 2,
   "metadata": {},
   "outputs": [
    {
     "name": "stdout",
     "output_type": "stream",
     "text": [
      "42\n",
      "42\n"
     ]
    },
    {
     "data": {
      "text/plain": [
       "42"
      ]
     },
     "execution_count": 2,
     "metadata": {},
     "output_type": "execute_result"
    }
   ],
   "source": [
    "class A:\n",
    "    def __repr__(self):\n",
    "        return \"42\"\n",
    "a = A()\n",
    "print(repr(a))\n",
    "print(str(a))\n",
    "a"
   ]
  },
  {
   "cell_type": "markdown",
   "metadata": {},
   "source": [
    "__repr__ is the default representation inside an object and return machine readable \\\n",
    "if print is called on the object it will look if \\_\\_str\\_\\_ exist, otherwise the \\_\\_repr\\_\\_\\\n",
    "if not print, it will look if \\_\\_str\\_\\_ exist if yes it will print human readable, otherwise it will return the \\_\\_repr\\_\\_\n",
    "\n",
    "\n"
   ]
  },
  {
   "cell_type": "code",
   "execution_count": 12,
   "metadata": {},
   "outputs": [
    {
     "name": "stdout",
     "output_type": "stream",
     "text": [
      "<__main__.B object at 0x000001ECD57D38F0>\n"
     ]
    }
   ],
   "source": [
    "class B:\n",
    "    pass\n",
    "b = B()\n",
    "print(b)"
   ]
  },
  {
   "cell_type": "code",
   "execution_count": 8,
   "metadata": {},
   "outputs": [
    {
     "data": {
      "text/plain": [
       "42"
      ]
     },
     "execution_count": 8,
     "metadata": {},
     "output_type": "execute_result"
    }
   ],
   "source": [
    "b"
   ]
  },
  {
   "cell_type": "markdown",
   "metadata": {},
   "source": [
    "A frequently asked question is when to use ```__repr__``` and when to use ```__str__```. ```__str__``` is always the right choice, if the output should be for the end user or in other words, if it should be nicely printed. ```__repr__``` on the other hand is used for the internal representation of an object. The output of ```__repr__``` should be - if feasible - a string which can be parsed by the python interpreter. The result of this parsing is in an equal object. That is, the following should be true for an object \"o\":\n",
    "```\n",
    " o == eval(repr(o)) \n",
    "```\n",
    "This is shown in the following interactive Python session:"
   ]
  },
  {
   "cell_type": "code",
   "execution_count": 47,
   "metadata": {},
   "outputs": [
    {
     "data": {
      "text/plain": [
       "'[3, 8, 9]'"
      ]
     },
     "execution_count": 47,
     "metadata": {},
     "output_type": "execute_result"
    }
   ],
   "source": [
    "l = [3,8,9]\n",
    "s = repr(l)\n",
    "s"
   ]
  },
  {
   "cell_type": "code",
   "execution_count": 48,
   "metadata": {},
   "outputs": [
    {
     "data": {
      "text/plain": [
       "True"
      ]
     },
     "execution_count": 48,
     "metadata": {},
     "output_type": "execute_result"
    }
   ],
   "source": [
    "l == eval(s)"
   ]
  },
  {
   "cell_type": "code",
   "execution_count": 49,
   "metadata": {},
   "outputs": [
    {
     "data": {
      "text/plain": [
       "True"
      ]
     },
     "execution_count": 49,
     "metadata": {},
     "output_type": "execute_result"
    }
   ],
   "source": [
    "l == eval(str(l))"
   ]
  },
  {
   "cell_type": "code",
   "execution_count": 50,
   "metadata": {},
   "outputs": [
    {
     "ename": "SyntaxError",
     "evalue": "invalid token (<string>, line 1)",
     "output_type": "error",
     "traceback": [
      "Traceback \u001b[1;36m(most recent call last)\u001b[0m:\n",
      "  File \u001b[0;32m\"C:\\Users\\Hanna\\Anaconda3\\envs\\bootcamp\\lib\\site-packages\\IPython\\core\\interactiveshell.py\"\u001b[0m, line \u001b[0;32m3444\u001b[0m, in \u001b[0;35mrun_code\u001b[0m\n    exec(code_obj, self.user_global_ns, self.user_ns)\n",
      "\u001b[1;36m  File \u001b[1;32m\"C:\\Users\\Hanna\\AppData\\Local\\Temp/ipykernel_8892/3077095258.py\"\u001b[1;36m, line \u001b[1;32m5\u001b[1;36m, in \u001b[1;35m<module>\u001b[1;36m\u001b[0m\n\u001b[1;33m    eval(str_s)\u001b[0m\n",
      "\u001b[1;36m  File \u001b[1;32m\"<string>\"\u001b[1;36m, line \u001b[1;32m1\u001b[0m\n\u001b[1;33m    2022-02-15 20:52:19.933493\u001b[0m\n\u001b[1;37m          ^\u001b[0m\n\u001b[1;31mSyntaxError\u001b[0m\u001b[1;31m:\u001b[0m invalid token\n"
     ]
    }
   ],
   "source": [
    "# We show in the following example with the datetime module that eval can only be applied on the strings created by repr\n",
    "import datetime\n",
    "today = datetime.datetime.now()\n",
    "str_s = str(today)\n",
    "eval(str_s)"
   ]
  },
  {
   "cell_type": "code",
   "execution_count": 24,
   "metadata": {},
   "outputs": [
    {
     "ename": "NameError",
     "evalue": "name 'today' is not defined",
     "output_type": "error",
     "traceback": [
      "\u001b[1;31m---------------------------------------------------------------------------\u001b[0m",
      "\u001b[1;31mNameError\u001b[0m                                 Traceback (most recent call last)",
      "Cell \u001b[1;32mIn[24], line 1\u001b[0m\n\u001b[1;32m----> 1\u001b[0m repr_s \u001b[38;5;241m=\u001b[39m \u001b[38;5;28mrepr\u001b[39m(today)\n\u001b[0;32m      2\u001b[0m t \u001b[38;5;241m=\u001b[39m \u001b[38;5;28meval\u001b[39m(repr_s)\n\u001b[0;32m      3\u001b[0m \u001b[38;5;28mtype\u001b[39m(t)\n",
      "\u001b[1;31mNameError\u001b[0m: name 'today' is not defined"
     ]
    }
   ],
   "source": [
    "repr_s = repr(today)\n",
    "t = eval(repr_s)\n",
    "type(t)"
   ]
  },
  {
   "cell_type": "markdown",
   "metadata": {},
   "source": [
    "We can see that eval(repr_s) returns again a datetime.datetime object. The string created by str can't be turned into a datetime.datetime object by parsing it.\n",
    "\n",
    "We will extend our robot class with a repr method. We dropped the other methods to keep this example simple:"
   ]
  },
  {
   "cell_type": "code",
   "execution_count": 26,
   "metadata": {},
   "outputs": [
    {
     "name": "stdout",
     "output_type": "stream",
     "text": [
      "Robot('Marvin', 1979)\n",
      "Type of x_str:  <class 'str'>\n",
      "Robot('Marvin', 1979)\n",
      "Type of new: <class '__main__.Robot'>\n"
     ]
    }
   ],
   "source": [
    "class Robot:\n",
    "    def __init__(self, name, build_year):\n",
    "        self.name = name\n",
    "        self.build_year = build_year\n",
    "    def __repr__(self):\n",
    "        return \"Robot('\" + self.name + \"', \" +  str(self.build_year) +  \")\"\n",
    "if __name__ == \"__main__\":\n",
    "    x = Robot(\"Marvin\", 1979)\n",
    "    x_str = str(x)\n",
    "    print(x_str)\n",
    "    print(\"Type of x_str: \", type(x_str))\n",
    "    new = eval(x_str) \n",
    "    print(new)\n",
    "    print(\"Type of new:\", type(new))"
   ]
  },
  {
   "cell_type": "markdown",
   "metadata": {},
   "source": [
    "x_str has the value Robot('Marvin', 1979). eval(x_str) converts it again into a Robot instance.\n",
    "\n",
    "Now it's time to extend our class with a user friendly ```__str__``` method:"
   ]
  },
  {
   "cell_type": "code",
   "execution_count": 30,
   "metadata": {},
   "outputs": [
    {
     "name": "stdout",
     "output_type": "stream",
     "text": [
      "Name: Marvin, Build Year: 1979\n",
      "Type of x_str:  <class 'str'>\n"
     ]
    },
    {
     "ename": "SyntaxError",
     "evalue": "invalid syntax (<string>, line 1)",
     "output_type": "error",
     "traceback": [
      "Traceback \u001b[1;36m(most recent call last)\u001b[0m:\n",
      "\u001b[0m  File \u001b[0;32mC:\\ProgramData\\anaconda3\\Lib\\site-packages\\IPython\\core\\interactiveshell.py:3577\u001b[0m in \u001b[0;35mrun_code\u001b[0m\n    exec(code_obj, self.user_global_ns, self.user_ns)\u001b[0m\n",
      "\u001b[1;36m  Cell \u001b[1;32mIn[30], line 15\u001b[1;36m\n\u001b[1;33m    new = eval(x_str)\u001b[1;36m\n",
      "\u001b[1;36m  File \u001b[1;32m<string>:1\u001b[1;36m\u001b[0m\n\u001b[1;33m    Name: Marvin, Build Year: 1979\u001b[0m\n\u001b[1;37m        ^\u001b[0m\n\u001b[1;31mSyntaxError\u001b[0m\u001b[1;31m:\u001b[0m invalid syntax\n"
     ]
    }
   ],
   "source": [
    "class Robot:\n",
    "    def __init__(self, name, build_year):\n",
    "        self.name = name\n",
    "        self.build_year = build_year\n",
    "    def __repr__(self):\n",
    "        return \"Robot('\" + self.name + \"', \" +  str(self.build_year) + \")\"\n",
    "    def __str__(self):\n",
    "        return \"Name: \" + self.name + \", Build Year: \" +  str(self.build_year)\n",
    "        \n",
    "if __name__ == \"__main__\":\n",
    "    x = Robot(\"Marvin\", 1979)\n",
    "    x_str = str(x)\n",
    "    print(x_str)\n",
    "    print(\"Type of x_str: \", type(x_str))\n",
    "    new = eval(x_str)\n",
    "    print(new)\n",
    "    print(\"Type of new:\", type(new))"
   ]
  },
  {
   "cell_type": "markdown",
   "metadata": {},
   "source": [
    "When we start this program, we can see that it is not possible to convert our string x_str, created via str(x), into a Robot object anymore.\n",
    "\n",
    "We show in the following program that x_repr can still be turned into a Robot object:"
   ]
  },
  {
   "cell_type": "code",
   "execution_count": 32,
   "metadata": {},
   "outputs": [
    {
     "name": "stdout",
     "output_type": "stream",
     "text": [
      "Robot(\"Marvin\",1979) <class 'str'>\n",
      "Name: Marvin, Build Year: 1979\n",
      "Type of new: <class '__main__.Robot'>\n"
     ]
    }
   ],
   "source": [
    "class Robot:\n",
    "    def __init__(self, name, build_year):\n",
    "        self.name = name\n",
    "        self.build_year = build_year\n",
    "    def __repr__(self):\n",
    "        return \"Robot(\\\"\" + self.name + \"\\\",\" +  str(self.build_year) +  \")\"\n",
    "    def __str__(self):\n",
    "        return \"Name: \" + self.name + \", Build Year: \" +  str(self.build_year)\n",
    "if __name__ == \"__main__\":\n",
    "    x = Robot(\"Marvin\", 1979)\n",
    "    x_repr = repr(x)\n",
    "    print(x_repr, type(x_repr))\n",
    "    new = eval(x_repr)\n",
    "    print(new)\n",
    "    print(\"Type of new:\", type(new))"
   ]
  },
  {
   "cell_type": "markdown",
   "metadata": {},
   "source": [
    "## Public, Protected and Private Attributes\n",
    "We have the following classification again in object-oriented programming:\n",
    "- Private attributes should only be used by the owner, i.e. inside of the class definition itself.\n",
    "- Protected (restricted) attributes may be used, but at your own risk. Essentially, they should only be used under certain conditions.\n",
    "- Public attributes can and should be freely used.\n",
    "\n",
    "Python uses a special naming scheme for attributes to control the accessibility of the attributes. So far, we have used attribute names, which can be freely used inside or outside of a class definition, as we have seen. This corresponds to public attributes of course. There are two ways to restrict the access to class attributes:\n",
    "- First, we can prefix an attribute name with a leading underscore \"_\". This marks the attribute as protected. It tells users of the class not to use this attribute unless, they write a subclass. We will learn about inheritance and subclassing in the next chapter of our course.\n",
    "- Second, we can prefix an attribute name with two leading underscores \"__\". The attribute is now inaccessible and invisible from outside. It's neither possible to read nor write to those attributes except inside the class definition itself.\n",
    "\n",
    "To summarize the attribute types:\n",
    "\n",
    "| Naming  | Type    | Meaning   |\n",
    "|:-------------|:-----------|:------|\n",
    "|name|Public|These attributes can be freely used inside or outside a class definition.|\n",
    "|\\_name|Protected|Protected attributes should not be used outside the class definition, unless inside a subclass definition.|\n",
    "|\\_\\_name|Private|This kind of attribute is inaccessible and invisible. It's neither possible to read nor write to those attributes, except inside the class definition itself.|"
   ]
  },
  {
   "cell_type": "code",
   "execution_count": 154,
   "metadata": {},
   "outputs": [],
   "source": [
    "class A():\n",
    "    def __init__(self):\n",
    "        self.__priv = \"I am private\"\n",
    "        self._prot = \"I am protected\"\n",
    "        self.pub = \"I am public\""
   ]
  },
  {
   "cell_type": "code",
   "execution_count": 156,
   "metadata": {},
   "outputs": [
    {
     "data": {
      "text/plain": [
       "'I am public'"
      ]
     },
     "execution_count": 156,
     "metadata": {},
     "output_type": "execute_result"
    }
   ],
   "source": [
    "x = A()\n",
    "x.pub"
   ]
  },
  {
   "cell_type": "code",
   "execution_count": 158,
   "metadata": {},
   "outputs": [
    {
     "data": {
      "text/plain": [
       "'I am public and my value can be changed'"
      ]
     },
     "execution_count": 158,
     "metadata": {},
     "output_type": "execute_result"
    }
   ],
   "source": [
    "x.pub = x.pub + \" and my value can be changed\"\n",
    "x.pub"
   ]
  },
  {
   "cell_type": "code",
   "execution_count": 160,
   "metadata": {},
   "outputs": [
    {
     "data": {
      "text/plain": [
       "'I am protected'"
      ]
     },
     "execution_count": 160,
     "metadata": {},
     "output_type": "execute_result"
    }
   ],
   "source": [
    "x._prot"
   ]
  },
  {
   "cell_type": "code",
   "execution_count": 162,
   "metadata": {},
   "outputs": [
    {
     "ename": "AttributeError",
     "evalue": "'A' object has no attribute '__priv'",
     "output_type": "error",
     "traceback": [
      "\u001b[1;31m---------------------------------------------------------------------------\u001b[0m",
      "\u001b[1;31mAttributeError\u001b[0m                            Traceback (most recent call last)",
      "Cell \u001b[1;32mIn[162], line 1\u001b[0m\n\u001b[1;32m----> 1\u001b[0m x\u001b[38;5;241m.\u001b[39m__priv\n",
      "\u001b[1;31mAttributeError\u001b[0m: 'A' object has no attribute '__priv'"
     ]
    }
   ],
   "source": [
    "x.__priv"
   ]
  },
  {
   "cell_type": "code",
   "execution_count": 164,
   "metadata": {},
   "outputs": [
    {
     "data": {
      "text/plain": [
       "{'_A__priv': 'I am private',\n",
       " '_prot': 'I am protected',\n",
       " 'pub': 'I am public and my value can be changed'}"
      ]
     },
     "execution_count": 164,
     "metadata": {},
     "output_type": "execute_result"
    }
   ],
   "source": [
    "x.__dict__"
   ]
  },
  {
   "cell_type": "markdown",
   "metadata": {},
   "source": [
    "The error message is very interesting. One might have expected a message like \"```__priv``` is private\". We get the message **\"AttributeError: 'A' object has no attribute ```__priv```** instead, which looks like a \"lie\". There is such an attribute, but we are told that there isn't. This is perfect information hiding. Telling a user that an attribute name is private means that we make some information visible, i.e. the existence or non-existence of a private variable.\n",
    "\n",
    "Our next task is rewriting our Robot class. Though we have Getter and Setter methods for the name and the build_year, we can access the attributes directly as well, because we have defined them as public attributes. Data Encapsulation means that we should only be able to access private attributes via getters and setters.\n",
    "\n",
    "We have to replace each occurrence of self.name and self.build_year by self.```__name``` and self.```__build_year```.\n",
    "\n",
    "The listing of our revised class:"
   ]
  },
  {
   "cell_type": "code",
   "execution_count": 63,
   "metadata": {},
   "outputs": [
    {
     "name": "stdout",
     "output_type": "stream",
     "text": [
      "Hi, I am Marvin\n",
      "I was built in the year 1979!\n",
      "Hi, I am Caliban\n",
      "I was built in the year 1993!\n"
     ]
    }
   ],
   "source": [
    "class Robot:\n",
    "    def __init__(self, name=None, build_year=2000):\n",
    "        self.__name = name\n",
    "        self.__build_year = build_year\n",
    "    def say_hi(self):\n",
    "        if self.__name:\n",
    "            print(\"Hi, I am \" + self.__name)\n",
    "        else:\n",
    "            print(\"Hi, I am a robot without a name\")\n",
    "    def set_name(self, name):\n",
    "        self.__name = name\n",
    "    def get_name(self):\n",
    "        return self.__name    \n",
    "    def set_build_year(self, by):\n",
    "        self.__build_year = by\n",
    "    def get_build_year(self):\n",
    "        return self.__build_year    \n",
    "    def __repr__(self):\n",
    "        return \"Robot('\" + self.__name + \"', \" +  str(self.__build_year) +  \")\"\n",
    "    def __str__(self):\n",
    "        return \"Name: \" + self.__name + \", Build Year: \" +  str(self.__build_year)\n",
    "if __name__ == \"__main__\":\n",
    "    x = Robot(\"Marvin\", 1979)\n",
    "    y = Robot(\"Caliban\", 1943)\n",
    "    for rob in [x, y]:\n",
    "        rob.say_hi()\n",
    "        if rob.get_name() == \"Caliban\":\n",
    "            rob.set_build_year(1993)\n",
    "        print(\"I was built in the year \" + str(rob.get_build_year()) + \"!\")"
   ]
  },
  {
   "cell_type": "markdown",
   "metadata": {},
   "source": [
    "## Destructor\n",
    "What we said about constructors holds true for destructors as well. There is no \"real\" destructor, but something similar, i.e. the method ```__del__```. It is called when the instance is about to be destroyed and if there is no other reference to this instance. If a base class has a ```__del__()``` method, the derived class's ```__del__()``` method, if any, must explicitly call it to ensure proper deletion of the base class part of the instance."
   ]
  },
  {
   "cell_type": "code",
   "execution_count": 168,
   "metadata": {},
   "outputs": [
    {
     "name": "stdout",
     "output_type": "stream",
     "text": [
      "Tik-Tok has been created!\n",
      "Jenkins has been created!\n",
      "Deleting x\n",
      "Deleting z\n",
      "Robot has been destroyed\n",
      "Robot has been destroyed\n"
     ]
    }
   ],
   "source": [
    "class Robot():\n",
    "    def __init__(self, name):\n",
    "        print(name + \" has been created!\")\n",
    "    def __del__(self):\n",
    "        print (\"Robot has been destroyed\")\n",
    "if __name__ == \"__main__\":\n",
    "    x = Robot(\"Tik-Tok\")\n",
    "    y = Robot(\"Jenkins\")\n",
    "    z = x\n",
    "    print(\"Deleting x\")\n",
    "    del x\n",
    "    print(\"Deleting z\")\n",
    "    del z\n",
    "    del y\n"
   ]
  },
  {
   "cell_type": "markdown",
   "metadata": {},
   "source": [
    "The usage of the ```__del__``` method is very problematic. If we change the previous code to personalize the deletion of a robot, we create an error:"
   ]
  },
  {
   "cell_type": "code",
   "execution_count": 176,
   "metadata": {},
   "outputs": [
    {
     "name": "stderr",
     "output_type": "stream",
     "text": [
      "Exception ignored in: <function Robot.__del__ at 0x000002071A05B380>\n",
      "Traceback (most recent call last):\n",
      "  File \"C:\\Users\\vicco\\AppData\\Local\\Temp\\ipykernel_2620\\1052952923.py\", line 5, in __del__\n",
      "AttributeError: 'Robot' object has no attribute 'name'\n",
      "Exception ignored in: <function Robot.__del__ at 0x000002071A05B380>\n",
      "Traceback (most recent call last):\n",
      "  File \"C:\\Users\\vicco\\AppData\\Local\\Temp\\ipykernel_2620\\1052952923.py\", line 5, in __del__\n",
      "AttributeError: 'Robot' object has no attribute 'name'\n"
     ]
    },
    {
     "name": "stdout",
     "output_type": "stream",
     "text": [
      "Tik-Tok has been created!\n",
      "Jenkins has been created!\n",
      "Deleting x\n",
      "Deleting z\n"
     ]
    }
   ],
   "source": [
    "class Robot():\n",
    "    def __init__(self, name):\n",
    "        print(name + \" has been created!\")\n",
    "    def __del__(self):\n",
    "        print (self.name + \" says bye-bye!\") #not work because the delete has been delete already\n",
    "\n",
    "if __name__ == \"__main__\":\n",
    "    x = Robot(\"Tik-Tok\")\n",
    "    y = Robot(\"Jenkins\")\n",
    "    z = x\n",
    "    print(\"Deleting x\")\n",
    "    del x\n",
    "    print(\"Deleting z\")\n",
    "    del z\n",
    "    del y"
   ]
  },
  {
   "cell_type": "markdown",
   "metadata": {},
   "source": [
    "We are accessing an attribute which doesn't exist anymore (we will see later why this is the case)."
   ]
  }
 ],
 "metadata": {
  "kernelspec": {
   "display_name": "Python 3 (ipykernel)",
   "language": "python",
   "name": "python3"
  },
  "language_info": {
   "codemirror_mode": {
    "name": "ipython",
    "version": 3
   },
   "file_extension": ".py",
   "mimetype": "text/x-python",
   "name": "python",
   "nbconvert_exporter": "python",
   "pygments_lexer": "ipython3",
   "version": "3.12.7"
  }
 },
 "nbformat": 4,
 "nbformat_minor": 4
}
