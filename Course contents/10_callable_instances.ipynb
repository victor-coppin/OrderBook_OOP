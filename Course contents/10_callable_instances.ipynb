{
 "cells": [
  {
   "cell_type": "markdown",
   "metadata": {},
   "source": [
    "## The call method\n",
    "There will be hardly any Python user who hasn't stumbled upon exceptions like ```'dict' object is not callable or 'int' object is not callable```. After a while they find out the reason: they used parentheses (round brackets) in situations where they shouldn't have done it. Expressions like ```f(x)```, ```gcd(x, y)``` or ```sin(3.4)``` are usually used for function calls.\n",
    "\n",
    "The question is: why do we get the message ```'dict' object is not callable``` if we write ```d('a')```, if ```d``` is a dictionary? Why doesn't it say ```'dict' object is not a function```?\n",
    "\n",
    "First of all, when we invoke a function in Python, we also say we 'call the function'. Secondly, there are objects in Python, which are 'called' like functions but are not functions strictly speaking. There are 'lambda functions', which are defined in a different way. It is also possible to define classes, where the instances are callable like 'regular' functions. This will be achieved by adding another _magic method_: the ```__call__``` method."
   ]
  },
  {
   "cell_type": "markdown",
   "metadata": {},
   "source": [
    "Before we get to the ```__call__``` method, we have to know what a **callable** is. **In general, a \"callable\" is an object that can be called like a function and behaves like one**. All functions are also callables. Python provides a function with the name ```callable```. With the help of this function we can determine whether an object is callable or not. The function ```callable``` returns a Boolean truth value which indicates whether the object passed as an argument can be called like a function or not. In addition to functions, we have already seen another form of ```callables```: _classes_."
   ]
  },
  {
   "cell_type": "code",
   "execution_count": 1,
   "metadata": {},
   "outputs": [
    {
     "name": "stdout",
     "output_type": "stream",
     "text": [
      "the_answer:  True\n"
     ]
    }
   ],
   "source": [
    "def the_answer(question):\n",
    "    return 42\n",
    "print(\"the_answer: \", callable(the_answer))"
   ]
  },
  {
   "cell_type": "markdown",
   "metadata": {},
   "source": [
    "The ```__call__``` method can be used to turn the instances of the class into callables. Functions are callable objects. A callable object is an object which can be used and behaves like a function but might not be a function. By using the ```__call__``` method it is possible to define classes in a way that the instances will be callable objects. The ```__call__``` method is called if the instance is called \"like a function\", i.e. using brackets. The following class definition is the simplest possible way to define a class with a ```__call__``` method:"
   ]
  },
  {
   "cell_type": "code",
   "execution_count": 2,
   "metadata": {},
   "outputs": [
    {
     "name": "stdout",
     "output_type": "stream",
     "text": [
      "spam spam\n"
     ]
    }
   ],
   "source": [
    "class FoodSupply:\n",
    "    def __call__(self):\n",
    "        return \"spam\"\n",
    "foo = FoodSupply()\n",
    "bar = FoodSupply()\n",
    "print(foo(), bar())"
   ]
  },
  {
   "cell_type": "markdown",
   "metadata": {},
   "source": [
    "The previous class example is extremely simple, but useless in practical terms. Whenever we create an instance of the class, we get a callable. These callables are always defining the same constant function. A function without any input and a constant output \"spam\". We'll now define a class which is slightly more useful. Let us slightly improve this example:"
   ]
  },
  {
   "cell_type": "code",
   "execution_count": 3,
   "metadata": {},
   "outputs": [
    {
     "data": {
      "text/plain": [
       "'fish rice plus delicious spam!'"
      ]
     },
     "execution_count": 3,
     "metadata": {},
     "output_type": "execute_result"
    }
   ],
   "source": [
    "class FoodSupply:\n",
    "    def __init__(self, *ingredients):\n",
    "        self.ingredients = ingredients\n",
    "    def __call__(self):\n",
    "        result = \" \".join(self.ingredients) + \" plus delicious spam!\"\n",
    "        return result\n",
    "f = FoodSupply(\"fish\", \"rice\")\n",
    "f()"
   ]
  },
  {
   "cell_type": "markdown",
   "metadata": {},
   "source": [
    "Let's create another function:"
   ]
  },
  {
   "cell_type": "code",
   "execution_count": 4,
   "metadata": {},
   "outputs": [
    {
     "data": {
      "text/plain": [
       "'vegetables plus delicious spam!'"
      ]
     },
     "execution_count": 4,
     "metadata": {},
     "output_type": "execute_result"
    }
   ],
   "source": [
    "g = FoodSupply(\"vegetables\")\n",
    "g()"
   ]
  },
  {
   "cell_type": "markdown",
   "metadata": {},
   "source": [
    "Now, we define a class with the name TriangleArea. This class has only one method, which is the ```__call__``` method. The ```__call__``` method calculates the area of an arbitrary triangle if the length of the three sides are given:"
   ]
  },
  {
   "cell_type": "code",
   "execution_count": 5,
   "metadata": {},
   "outputs": [
    {
     "name": "stdout",
     "output_type": "stream",
     "text": [
      "6.0\n"
     ]
    }
   ],
   "source": [
    "class TriangleArea:\n",
    "    def __call__(self, a, b, c):\n",
    "        p = (a + b + c) / 2\n",
    "        result = (p * (p - a) * (p - b) * (p - c)) ** 0.5\n",
    "        return result\n",
    "area = TriangleArea()\n",
    "print(area(3, 4, 5))"
   ]
  },
  {
   "cell_type": "markdown",
   "metadata": {},
   "source": [
    "This program returns 6.0. This class is not very exciting, even though we can create an arbitrary number of instances where each instance just executes an unaltered ```__call__``` function of the TrianlgeClass. We cannot pass parameters to the instantiation and the ```__call__``` of each instance returns the value of the area of the triangle. So each instance behaves like the area function."
   ]
  },
  {
   "cell_type": "markdown",
   "metadata": {},
   "source": [
    "After the two very didactic and not very practical examples, we want to demonstrate a more practical example with the following. We define a class that can be used to define linear equations:"
   ]
  },
  {
   "cell_type": "code",
   "execution_count": 6,
   "metadata": {},
   "outputs": [
    {
     "name": "stdout",
     "output_type": "stream",
     "text": [
      "-5 1.0\n",
      "-4 1.4\n",
      "-3 1.7999999999999998\n",
      "-2 2.2\n",
      "-1 2.6\n",
      "0 3.0\n",
      "1 3.4\n",
      "2 3.8\n",
      "3 4.2\n",
      "4 4.6\n",
      "5 5.0\n"
     ]
    }
   ],
   "source": [
    "class StraightLines():\n",
    "    def __init__(self, m, c):\n",
    "        self.slope = m\n",
    "        self.y_intercept = c\n",
    "    def __call__(self, x):\n",
    "        return self.slope * x + self.y_intercept\n",
    "line = StraightLines(0.4, 3)\n",
    "for x in range(-5, 6):\n",
    "    print(x, line(x))"
   ]
  },
  {
   "cell_type": "code",
   "execution_count": 7,
   "metadata": {},
   "outputs": [
    {
     "data": {
      "image/png": "[encoded data removed]",
      "text/plain": [
       "<Figure size 432x288 with 1 Axes>"
      ]
     },
     "metadata": {
      "needs_background": "light"
     },
     "output_type": "display_data"
    }
   ],
   "source": [
    "# We will use this class now to create some straight lines and visualize them with matplotlib\n",
    "import matplotlib.pyplot as plt\n",
    "import numpy as np\n",
    "lines = []\n",
    "lines.append(StraightLines(1, 0))\n",
    "lines.append(StraightLines(0.5, 3))\n",
    "lines.append(StraightLines(-1.4, 1.6))\n",
    "X = np.linspace(-5,5,100)\n",
    "for index, line in enumerate(lines):\n",
    "    line = np.vectorize(line)\n",
    "    plt.plot(X, line(X), label='line' + str(index))\n",
    "plt.title('Some straight lines')\n",
    "plt.xlabel('x', color='#1C2833')\n",
    "plt.ylabel('y', color='#1C2833')\n",
    "plt.legend(loc='upper left')\n",
    "plt.grid()\n",
    "plt.show()"
   ]
  },
  {
   "cell_type": "markdown",
   "metadata": {},
   "source": [
    "Our next example is also exciting. The class FuzzyTriangleArea defines a ```__call__``` method which implements a fuzzy behaviour in the calculations of the area. The result should be correct with a likelihood of p, e.g. 0.8. If the result is not correct the result will be in a range of ± v %. e.g. 0.1."
   ]
  },
  {
   "cell_type": "code",
   "execution_count": 8,
   "metadata": {},
   "outputs": [
    {
     "name": "stdout",
     "output_type": "stream",
     "text": [
      "6.000, 5.85\n",
      "6.000, 5.90\n",
      "5.937, 5.93\n",
      "6.000, 6.17\n",
      "6.000, 6.00\n",
      "6.052, 6.16\n",
      "6.000, 6.00\n",
      "5.937, 6.00\n",
      "6.000, 5.94\n",
      "6.000, 5.99\n",
      "6.057, 6.00\n",
      "6.000, 6.00\n"
     ]
    }
   ],
   "source": [
    "import random\n",
    "class FuzzyTriangleArea:\n",
    "    def __init__(self, p=0.8, v=0.1):\n",
    "        self.p, self.v = p, v\n",
    "    def __call__(self, a, b, c):\n",
    "        p = (a + b + c) / 2\n",
    "        result = (p * (p - a) * (p - b) * (p - c)) ** 0.5\n",
    "        if random.random() <= self.p:\n",
    "            return result\n",
    "        else:\n",
    "            return random.uniform(result-self.v, \n",
    "                                  result+self.v)\n",
    "area1 = FuzzyTriangleArea()\n",
    "area2 = FuzzyTriangleArea(0.5, 0.2)\n",
    "for i in range(12):\n",
    "    print(f\"{area1(3, 4, 5):4.3f}, {area2(3, 4, 5):4.2f}\")"
   ]
  },
  {
   "attachments": {
    "image.png": {
     "image/png": "[encoded data removed]"
    }
   },
   "cell_type": "markdown",
   "metadata": {},
   "source": [
    "Beware that this output differs with every call! We can see the in most cases we get the right value for the area but sometimes not.\n",
    "\n",
    "We can create many different instances of the previous class. Each of these behaves like an area function, which returns a value for the area, which may or may not be correct, depending on the instantiation parameters p and v. We can see those instances as experts (expert functions) which return in most cases the correct answer, if we use p values close to 1. If the value v is close to zero, the error will be small, if at all. The next task would be merging such experts, let's call them exp1, exp2, ..., expn to get an improved result. We can perform a vote on the results, i.e. we will return the value which is most often occurring as the correct value. Alternatively, we can calculate the arithmetic mean. We will implement both possibilities in our class FuzzyTriangleArea:\n",
    "\n",
    "![image.png](attachment:image.png)"
   ]
  },
  {
   "cell_type": "code",
   "execution_count": 9,
   "metadata": {},
   "outputs": [
    {
     "name": "stdout",
     "output_type": "stream",
     "text": [
      "6.0\n",
      "6.006665220165538\n"
     ]
    }
   ],
   "source": [
    "from random import uniform, random\n",
    "from collections import Counter\n",
    "class FuzzyTriangleArea:\n",
    "    def __init__(self, p=0.8, v=0.1):\n",
    "        self.p, self.v = p, v\n",
    "    def __call__(self, a, b, c):\n",
    "        p = (a + b + c) / 2\n",
    "        result = (p * (p - a) * (p - b) * (p - c)) ** 0.5\n",
    "        if random() <= self.p:\n",
    "            return result\n",
    "        else:\n",
    "            return uniform(result-self.v, \n",
    "                                  result+self.v)\n",
    "class MergeExperts:\n",
    "    def __init__(self, mode, *experts):\n",
    "        self.mode, self.experts = mode, experts\n",
    "    def __call__(self, a, b, c):\n",
    "        results= [exp(a, b, c) for exp in self.experts]\n",
    "        if self.mode == \"vote\":\n",
    "            c = Counter(results)\n",
    "            return c.most_common(1)[0][0]\n",
    "        elif self.mode == \"mean\":\n",
    "            return sum(results) / len(results)\n",
    "rvalues = [(uniform(0.7, 0.9), uniform(0.05, 0.2)) for _ in range(20)]\n",
    "experts = [FuzzyTriangleArea(p, v) for p, v in rvalues]\n",
    "merger1 = MergeExperts(\"vote\", *experts)\n",
    "print(merger1(3, 4, 5))\n",
    "merger2 = MergeExperts(\"mean\", *experts)\n",
    "print(merger2(3, 4, 5))"
   ]
  },
  {
   "cell_type": "markdown",
   "metadata": {},
   "source": [
    "The following example defines a class with which we can create abitrary polynomial functions:"
   ]
  },
  {
   "cell_type": "code",
   "execution_count": 13,
   "metadata": {},
   "outputs": [
    {
     "name": "stdout",
     "output_type": "stream",
     "text": [
      "index = 1 ; p1 = 42 ; p2 = 2.75 ; p3 = 3.25\n",
      "index = 2 ; p1 = 42 ; p2 = 3.5 ; p3 = 9.5\n",
      "index = 3 ; p1 = 42 ; p2 = 4.25 ; p3 = 26.75\n",
      "index = 4 ; p1 = 42 ; p2 = 5.0 ; p3 = 61.0\n",
      "index = 5 ; p1 = 42 ; p2 = 5.75 ; p3 = 118.25\n",
      "index = 6 ; p1 = 42 ; p2 = 6.5 ; p3 = 204.5\n",
      "index = 7 ; p1 = 42 ; p2 = 7.25 ; p3 = 325.75\n",
      "index = 8 ; p1 = 42 ; p2 = 8.0 ; p3 = 488.0\n",
      "index = 9 ; p1 = 42 ; p2 = 8.75 ; p3 = 697.25\n"
     ]
    }
   ],
   "source": [
    "class Polynomial:\n",
    "    def __init__(self, *coefficients):\n",
    "        self.coefficients = coefficients[::-1]\n",
    "    def __call__(self, x):\n",
    "        res = 0\n",
    "        for index, coeff in enumerate(self.coefficients):\n",
    "            res += coeff * x** index\n",
    "        return res\n",
    "# a constant function\n",
    "p1 = Polynomial(42)\n",
    "# a straight Line\n",
    "p2 = Polynomial(0.75, 2)\n",
    "# a third degree Polynomial\n",
    "p3 = Polynomial(1, -0.5, 0.75, 2)\n",
    "for i in range(1, 10):\n",
    "    print(\"index =\", i, \";\", \"p1 =\", p1(i), \";\", \"p2 =\", p2(i), \";\", \"p3 =\", p3(i))"
   ]
  }
 ],
 "metadata": {
  "kernelspec": {
   "display_name": "Python 3",
   "language": "python",
   "name": "python3"
  },
  "language_info": {
   "codemirror_mode": {
    "name": "ipython",
    "version": 3
   },
   "file_extension": ".py",
   "mimetype": "text/x-python",
   "name": "python",
   "nbconvert_exporter": "python",
   "pygments_lexer": "ipython3",
   "version": "3.7.3"
  }
 },
 "nbformat": 4,
 "nbformat_minor": 2
}
